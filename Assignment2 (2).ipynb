{
 "cells": [
  {
   "cell_type": "code",
   "execution_count": null,
   "id": "bd4c8081-45dd-465f-9d22-5b0097bd55fd",
   "metadata": {},
   "outputs": [],
   "source": [
    "# 1.Create a package named ‘cricket’ which will contain modules named\n",
    "batsman and bowler. Create following functions in respective modules.\n",
    "Import the package and call all these functions in your program\n",
    "batsman: findaverage(runs,matches), strikerate(runs,balls)\n",
    "bowler: findavg(runs,wickets), economyrate(overs, runs)"
   ]
  },
  {
   "cell_type": "code",
   "execution_count": 196,
   "id": "137b60ba-3cdb-4b3e-a5ce-6da33e89cf05",
   "metadata": {},
   "outputs": [
    {
     "name": "stdout",
     "output_type": "stream",
     "text": [
      "Batting Average: 50.0\n",
      "Strike Rate: 166.66666666666669\n",
      "Bowling Average: 20.0\n",
      "Economy Rate: 8.0\n"
     ]
    }
   ],
   "source": [
    "# main.py\n",
    "\n",
    "# Import the functions from the cricket package\n",
    "from cricket import batsman\n",
    "from cricket import bowler\n",
    "\n",
    "# Test the batsman functions\n",
    "runs = 500\n",
    "matches = 10\n",
    "balls = 300\n",
    "\n",
    "batting_avg = batsman.findaverage(runs, matches)\n",
    "strike_rate = batsman.strikerate(runs, balls)\n",
    "\n",
    "print(f\"Batting Average: {batting_avg}\")\n",
    "print(f\"Strike Rate: {strike_rate}\")\n",
    "\n",
    "# Test the bowler functions\n",
    "runs_conceded = 400\n",
    "wickets = 20\n",
    "overs = 50\n",
    "\n",
    "bowling_avg = bowler.findavg(runs_conceded, wickets)\n",
    "economy_rate = bowler.economyrate(overs, runs_conceded)\n",
    "\n",
    "print(f\"Bowling Average: {bowling_avg}\")\n",
    "print(f\"Economy Rate: {economy_rate}\")"
   ]
  },
  {
   "cell_type": "code",
   "execution_count": 197,
   "id": "ebd7355f-25af-4953-a352-e05d8ce3e2ee",
   "metadata": {},
   "outputs": [],
   "source": [
    "# 2.Write a Python function to find whether the number if prime or not.def isPrime(num)\n",
    "\n",
    "def isPrime(num):\n",
    "    # Initial checks for small numbers\n",
    "    if num <= 1:\n",
    "        return False\n",
    "    if num <= 3:\n",
    "        return True\n",
    "    if num % 2 == 0 or num % 3 == 0:\n",
    "        return False\n",
    "    i = 5\n",
    "    while i * i <= num:\n",
    "        if num % i == 0 or num % (i + 2) == 0:\n",
    "            return False\n",
    "        i += 6\n",
    "    \n",
    "    return True"
   ]
  },
  {
   "cell_type": "code",
   "execution_count": 198,
   "id": "eab2e89e-8e03-47c7-957d-2d8465c2a506",
   "metadata": {},
   "outputs": [
    {
     "name": "stdout",
     "output_type": "stream",
     "text": [
      "True\n"
     ]
    }
   ],
   "source": [
    "print(isPrime(2))"
   ]
  },
  {
   "cell_type": "code",
   "execution_count": 199,
   "id": "404ed391-d758-4aa3-ae3c-a14ff5b82617",
   "metadata": {},
   "outputs": [
    {
     "name": "stdout",
     "output_type": "stream",
     "text": [
      "False\n"
     ]
    }
   ],
   "source": [
    "print(isPrime(1))"
   ]
  },
  {
   "cell_type": "code",
   "execution_count": null,
   "id": "29654b5c-2a59-4b34-add1-1cba7b42e9d9",
   "metadata": {},
   "outputs": [],
   "source": [
    "# 3.Write a function is_palindrome(string) that takes a string as input and returns True if the string reads the same backward as forward\n",
    "# (e.g., \"racecar\" is a palindrome)"
   ]
  },
  {
   "cell_type": "code",
   "execution_count": 200,
   "id": "56eb9dc4-8384-4036-a31e-1836a386700d",
   "metadata": {},
   "outputs": [],
   "source": [
    "def is_palindrome(string):\n",
    "    # This function will check if the input string is a palindrome\n",
    "    pass\n",
    "    return string == string[::-1]"
   ]
  },
  {
   "cell_type": "code",
   "execution_count": 201,
   "id": "2fca84f9-1f95-40ea-b712-13fe441c8e6e",
   "metadata": {},
   "outputs": [],
   "source": [
    "string1 = \"racecar\"\n",
    "string2 = \"hello\""
   ]
  },
  {
   "cell_type": "code",
   "execution_count": 202,
   "id": "ab980ee4-41c8-4a9f-aea3-c9838e3aedf7",
   "metadata": {},
   "outputs": [
    {
     "name": "stdout",
     "output_type": "stream",
     "text": [
      "Is 'racecar' a palindrome? True\n"
     ]
    }
   ],
   "source": [
    "print(f\"Is '{string1}' a palindrome? {is_palindrome(string1)}\")"
   ]
  },
  {
   "cell_type": "code",
   "execution_count": 203,
   "id": "45d0be7b-a701-4c4f-b63b-9e7c17b3d999",
   "metadata": {},
   "outputs": [
    {
     "name": "stdout",
     "output_type": "stream",
     "text": [
      "Is 'hello' a palindrome? False\n"
     ]
    }
   ],
   "source": [
    "print(f\"Is '{string2}' a palindrome? {is_palindrome(string2)}\")"
   ]
  },
  {
   "cell_type": "code",
   "execution_count": null,
   "id": "651e548a-3b7d-455e-ba3d-67a1778cb067",
   "metadata": {},
   "outputs": [],
   "source": [
    "# 4.Write a function reverse_list(data) that takes a list as input and returns a new list with the elements in reverse order \n",
    "# (e.g., reverse_list([1, 2, 3]) returns [3, 2, 1]"
   ]
  },
  {
   "cell_type": "code",
   "execution_count": 211,
   "id": "ab7dc048-e89c-4792-ad22-d3367bdc6920",
   "metadata": {},
   "outputs": [],
   "source": [
    "def reverse_list(data):\n",
    "    pass"
   ]
  },
  {
   "cell_type": "code",
   "execution_count": 212,
   "id": "aad982a4-d1ca-4aa7-a1cb-88cbbbfaf54e",
   "metadata": {},
   "outputs": [],
   "source": [
    "def reverse_list(data):\n",
    "    reversed_list = data[::-1]\n",
    "    return reversed_list"
   ]
  },
  {
   "cell_type": "code",
   "execution_count": 213,
   "id": "d17f3197-6d27-4dd2-b050-34f0e0d45e37",
   "metadata": {},
   "outputs": [],
   "source": [
    "original_list = [1, 2, 3]\n",
    "reversed_result = reverse_list(original_list)"
   ]
  },
  {
   "cell_type": "code",
   "execution_count": 214,
   "id": "f849b2b9-4009-42e7-8ac2-d8b0ac3165e5",
   "metadata": {},
   "outputs": [
    {
     "name": "stdout",
     "output_type": "stream",
     "text": [
      "Original list: [1, 2, 3]\n"
     ]
    }
   ],
   "source": [
    "print(\"Original list:\", original_list)"
   ]
  },
  {
   "cell_type": "code",
   "execution_count": 215,
   "id": "b514837e-f843-4e08-8ce3-a1feaffa6152",
   "metadata": {},
   "outputs": [
    {
     "name": "stdout",
     "output_type": "stream",
     "text": [
      "Reversed list: [3, 2, 1]\n"
     ]
    }
   ],
   "source": [
    "print(\"Reversed list:\", reversed_result)"
   ]
  },
  {
   "cell_type": "code",
   "execution_count": null,
   "id": "df85b7fd-edd8-4ca4-84ae-30cba65d8927",
   "metadata": {},
   "outputs": [],
   "source": [
    "# 5.Write a function write_file(filename, content) that takes a filename and content as input and writes the content to the specified file"
   ]
  },
  {
   "cell_type": "code",
   "execution_count": 133,
   "id": "75f7f0d5-7057-42ce-a03e-583e732e7529",
   "metadata": {},
   "outputs": [],
   "source": [
    "def write_file(filename, content):\n",
    "    pass"
   ]
  },
  {
   "cell_type": "code",
   "execution_count": 134,
   "id": "f998fa95-2b89-46b7-b139-35439b06f63d",
   "metadata": {},
   "outputs": [],
   "source": [
    "def write_file(filename, content):\n",
    "    with open(filename, 'w') as file:\n",
    "        pass"
   ]
  },
  {
   "cell_type": "code",
   "execution_count": 135,
   "id": "6f1f3e52-ce1e-4d00-aebb-f71d84c7ccb8",
   "metadata": {},
   "outputs": [],
   "source": [
    "def write_file(filename, content):\n",
    "    with open(filename, 'w') as file:\n",
    "        file.write(content)"
   ]
  },
  {
   "cell_type": "code",
   "execution_count": 136,
   "id": "b3c01743-9768-408a-a799-2161d2a923bf",
   "metadata": {},
   "outputs": [
    {
     "name": "stdout",
     "output_type": "stream",
     "text": [
      "Content written to example.txt\n"
     ]
    }
   ],
   "source": [
    "filename = \"example.txt\"\n",
    "content = \"This is the content to be written to the file.\"\n",
    "\n",
    "write_file(filename, content)\n",
    "print(f\"Content written to {filename}\")"
   ]
  },
  {
   "cell_type": "code",
   "execution_count": 9,
   "id": "66a45993-364f-436f-93cd-b2f9fad696e0",
   "metadata": {},
   "outputs": [
    {
     "name": "stdout",
     "output_type": "stream",
     "text": [
      "Content copied from example_source.txt to example_destination.txt\n",
      "Content of example_destination.txt:\n",
      "This is a test content.\n"
     ]
    }
   ],
   "source": [
    " # 6.Write a function copy_file(source_filename, destination_filename) that takes the source and destination filenames as input and copies the content of the source\n",
    "# file to the destination file. Handle cases where the source file doesn't exist.\n",
    "\n",
    "def copy_file(source_filename, destination_filename):\n",
    "    try:\n",
    "        with open(source_filename, 'r') as source_file:\n",
    "            content = source_file.read()\n",
    "\n",
    "        with open(destination_filename, 'w') as destination_file:\n",
    "            destination_file.write(content)\n",
    "\n",
    "        print(f\"Content copied from {source_filename} to {destination_filename}\")\n",
    "\n",
    "    except FileNotFoundError:\n",
    "        print(f\"Error: The file {source_filename} does not exist.\")\n",
    "    \n",
    "    except Exception as e:\n",
    "        print(f\"An error occurred: {e}\")\n",
    "\n",
    "source_file = 'example_source.txt'\n",
    "destination_file = 'example_destination.txt'\n",
    "\n",
    "with open(source_file, 'w') as f:\n",
    "    f.write(\"This is a test content.\")\n",
    "\n",
    "copy_file(source_file, destination_file)\n",
    "\n",
    "with open(destination_file, 'r') as f:\n",
    "    print(f\"Content of {destination_file}:\")\n",
    "    print(f.read())"
   ]
  },
  {
   "cell_type": "code",
   "execution_count": 155,
   "id": "1677edb8-3b52-4757-ba11-167e07926695",
   "metadata": {},
   "outputs": [],
   "source": [
    "# 7.Implement a function to calculate the dot product of two NumPy arrays.\n",
    "\n",
    "import numpy as np\n",
    "\n",
    "def calculate_dot_product(array1, array2):\n",
    "    return np.dot(array1, array2)"
   ]
  },
  {
   "cell_type": "code",
   "execution_count": 156,
   "id": "9070b53b-7739-40cb-b100-313895a4a58c",
   "metadata": {},
   "outputs": [],
   "source": [
    "array1 = np.array([1, 2, 3])\n",
    "array2 = np.array([4, 5, 6])"
   ]
  },
  {
   "cell_type": "code",
   "execution_count": 157,
   "id": "d846aa33-0285-4563-a0de-3f8d3ce067e9",
   "metadata": {},
   "outputs": [],
   "source": [
    "result = calculate_dot_product(array1, array2)"
   ]
  },
  {
   "cell_type": "code",
   "execution_count": 158,
   "id": "51a06694-801c-469f-a979-00fabdcd69c3",
   "metadata": {},
   "outputs": [
    {
     "name": "stdout",
     "output_type": "stream",
     "text": [
      "Dot product: 32\n"
     ]
    }
   ],
   "source": [
    "print(f\"Dot product: {result}\")"
   ]
  },
  {
   "cell_type": "code",
   "execution_count": 181,
   "id": "74f3c1fa-f061-48de-961f-16ca45abb368",
   "metadata": {},
   "outputs": [],
   "source": [
    "# 8.Implement a GUI with a radio button selection for choosing a favorite color (e.g., red,green, blue).\n",
    "#change the background color of the window based on the selected radio button.\n",
    "\n",
    "import tkinter as tk\n",
    "from tkinter import ttk\n",
    "\n",
    "top = tk.Tk()\n",
    "\n",
    "top.title(\"Favorite Color Selector\")\n",
    "top.geometry(\"300x200\")\n",
    "color_var = tk.StringVar(value='Red')\n",
    "\n",
    "def change_color():\n",
    "    selected_color = color_var.get()\n",
    "    if selected_color == 'Red':\n",
    "        top.configure(bg='red')\n",
    "    elif selected_color == 'Green':\n",
    "        top.configure(bg='green')\n",
    "    elif selected_color == 'Blue':\n",
    "        top.configure(bg='blue')\n",
    "\n",
    "radio_red = ttk.Radiobutton(top, text='Red', value='Red', variable=color_var, command=change_color)\n",
    "radio_red.grid(row=0, column=0)\n",
    "\n",
    "radio_green = ttk.Radiobutton(top, text='Green', value='Green', variable=color_var, command=change_color)\n",
    "radio_green.grid(row=1, column=0)\n",
    "\n",
    "radio_blue = ttk.Radiobutton(top, text='Blue', value='Blue', variable=color_var, command=change_color)\n",
    "radio_blue.grid(row=2, column=0)\n",
    "\n",
    "top.mainloop()\n"
   ]
  },
  {
   "cell_type": "code",
   "execution_count": 178,
   "id": "ada629d9-0209-4b53-8945-2a2ba8d31070",
   "metadata": {},
   "outputs": [],
   "source": [
    "# 9.Design a currency converter GUI. Allow users to enter an amount and select the currencies they want to convert between (e.g., USD, EUR).\n",
    "# Display the converted amount in the selected currency\n",
    "\n",
    "import tkinter as tk\n",
    "from tkinter import ttk\n",
    "\n",
    "top = tk.Tk()\n",
    "top.title('Currency Converter')\n",
    "\n",
    "result_var = tk.StringVar()\n",
    "result_label = tk.Label(top, textvariable=result_var, font=('Arial', 24))\n",
    "result_label.grid(row=4, column=0, columnspan=2)\n",
    "\n",
    "convert_button = tk.Button(top, text=\"Convert\", command=convert_currency)\n",
    "convert_button.grid(row=3, column=0, columnspan=2)\n",
    "\n",
    "\n",
    "def convert_currency():\n",
    "    amount = float(amount_entry.get())\n",
    "    from_currency = from_currency_var.get()\n",
    "    to_currency = to_currency_var.get()\n",
    "    if from_currency == to_currency:\n",
    "        result = amount\n",
    "    else:\n",
    "        rate = conversion_rates[from_currency][to_currency]\n",
    "        result = amount * rate\n",
    "    result_var.set(f\"{result:.2f} {to_currency}\")\n",
    "\n",
    "\n",
    "# Conversion rates dictionary\n",
    "conversion_rates = {\n",
    "    \"USD\": {\"EUR\": 0.85, \"INR\": 74.10},\n",
    "    \"EUR\": {\"USD\": 1.18, \"INR\": 87.21},\n",
    "    \"INR\": {\"USD\": 0.013, \"EUR\": 0.011}\n",
    "}\n",
    "\n",
    "\n",
    "# Amount entry\n",
    "amount_label = tk.Label(top, text=\"Amount:\")\n",
    "amount_label.grid(row=0, column=0)\n",
    "amount_entry = tk.Entry(top)\n",
    "amount_entry.grid(row=0, column=1)\n",
    "\n",
    "# From currency\n",
    "from_currency_label = tk.Label(top, text=\"From:\")\n",
    "from_currency_label.grid(row=1, column=0)\n",
    "from_currency_var = tk.StringVar(value='USD')\n",
    "from_currency_combo = ttk.Combobox(top, textvariable=from_currency_var)\n",
    "from_currency_combo['values'] = ('USD', 'EUR', 'INR')\n",
    "from_currency_combo.grid(row=1, column=1)\n",
    "\n",
    "# To currency\n",
    "to_currency_label = tk.Label(top, text=\"To:\")\n",
    "to_currency_label.grid(row=2, column=0)\n",
    "to_currency_var = tk.StringVar(value='EUR')\n",
    "to_currency_combo = ttk.Combobox(top, textvariable=to_currency_var)\n",
    "to_currency_combo['values'] = ('USD', 'EUR', 'INR')\n",
    "to_currency_combo.grid(row=2, column=1)\n",
    "\n",
    "top.mainloop()\n"
   ]
  },
  {
   "cell_type": "code",
   "execution_count": null,
   "id": "ece1c18f-35f7-4a18-9d53-906b3b5d18f2",
   "metadata": {},
   "outputs": [],
   "source": []
  }
 ],
 "metadata": {
  "kernelspec": {
   "display_name": "Python 3 (ipykernel)",
   "language": "python",
   "name": "python3"
  },
  "language_info": {
   "codemirror_mode": {
    "name": "ipython",
    "version": 3
   },
   "file_extension": ".py",
   "mimetype": "text/x-python",
   "name": "python",
   "nbconvert_exporter": "python",
   "pygments_lexer": "ipython3",
   "version": "3.11.7"
  }
 },
 "nbformat": 4,
 "nbformat_minor": 5
}
