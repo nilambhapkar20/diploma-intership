{
 "cells": [
  {
   "cell_type": "code",
   "execution_count": 16,
   "id": "dac90c43-523d-42ed-ae5e-ea740b53dd00",
   "metadata": {},
   "outputs": [
    {
     "ename": "FileNotFoundError",
     "evalue": "[Errno 2] No such file or directory: 'all.txt'",
     "output_type": "error",
     "traceback": [
      "\u001b[1;31m---------------------------------------------------------------------------\u001b[0m",
      "\u001b[1;31mFileNotFoundError\u001b[0m                         Traceback (most recent call last)",
      "Cell \u001b[1;32mIn[16], line 1\u001b[0m\n\u001b[1;32m----> 1\u001b[0m f\u001b[38;5;241m=\u001b[39m\u001b[38;5;28mopen\u001b[39m(\u001b[38;5;124m'\u001b[39m\u001b[38;5;124mall.txt\u001b[39m\u001b[38;5;124m'\u001b[39m)\n",
      "File \u001b[1;32m~\\anaconda3\\Lib\\site-packages\\IPython\\core\\interactiveshell.py:310\u001b[0m, in \u001b[0;36m_modified_open\u001b[1;34m(file, *args, **kwargs)\u001b[0m\n\u001b[0;32m    303\u001b[0m \u001b[38;5;28;01mif\u001b[39;00m file \u001b[38;5;129;01min\u001b[39;00m {\u001b[38;5;241m0\u001b[39m, \u001b[38;5;241m1\u001b[39m, \u001b[38;5;241m2\u001b[39m}:\n\u001b[0;32m    304\u001b[0m     \u001b[38;5;28;01mraise\u001b[39;00m \u001b[38;5;167;01mValueError\u001b[39;00m(\n\u001b[0;32m    305\u001b[0m         \u001b[38;5;124mf\u001b[39m\u001b[38;5;124m\"\u001b[39m\u001b[38;5;124mIPython won\u001b[39m\u001b[38;5;124m'\u001b[39m\u001b[38;5;124mt let you open fd=\u001b[39m\u001b[38;5;132;01m{\u001b[39;00mfile\u001b[38;5;132;01m}\u001b[39;00m\u001b[38;5;124m by default \u001b[39m\u001b[38;5;124m\"\u001b[39m\n\u001b[0;32m    306\u001b[0m         \u001b[38;5;124m\"\u001b[39m\u001b[38;5;124mas it is likely to crash IPython. If you know what you are doing, \u001b[39m\u001b[38;5;124m\"\u001b[39m\n\u001b[0;32m    307\u001b[0m         \u001b[38;5;124m\"\u001b[39m\u001b[38;5;124myou can use builtins\u001b[39m\u001b[38;5;124m'\u001b[39m\u001b[38;5;124m open.\u001b[39m\u001b[38;5;124m\"\u001b[39m\n\u001b[0;32m    308\u001b[0m     )\n\u001b[1;32m--> 310\u001b[0m \u001b[38;5;28;01mreturn\u001b[39;00m io_open(file, \u001b[38;5;241m*\u001b[39margs, \u001b[38;5;241m*\u001b[39m\u001b[38;5;241m*\u001b[39mkwargs)\n",
      "\u001b[1;31mFileNotFoundError\u001b[0m: [Errno 2] No such file or directory: 'all.txt'"
     ]
    }
   ],
   "source": [
    "f=open('all.txt')"
   ]
  },
  {
   "cell_type": "code",
   "execution_count": 17,
   "id": "5b92e53e-4294-42b2-861f-34a01157a474",
   "metadata": {},
   "outputs": [
    {
     "name": "stdout",
     "output_type": "stream",
     "text": [
      "file is not there\n"
     ]
    }
   ],
   "source": [
    "try:\n",
    "    f=open('all.txt')\n",
    "except Exception:\n",
    "    print('file is not there')"
   ]
  },
  {
   "cell_type": "code",
   "execution_count": 18,
   "id": "5d52ca97-a41a-42ab-9146-fc7c799e4252",
   "metadata": {},
   "outputs": [
    {
     "name": "stdout",
     "output_type": "stream",
     "text": [
      "file is not there\n"
     ]
    }
   ],
   "source": [
    "try:\n",
    "    f=open('all.txt')\n",
    "    var=var1\n",
    "except Exception:\n",
    "    print('file is not there')"
   ]
  },
  {
   "cell_type": "code",
   "execution_count": 19,
   "id": "fb4cc200-6746-47f8-9144-992a4da8e9af",
   "metadata": {},
   "outputs": [
    {
     "name": "stdout",
     "output_type": "stream",
     "text": [
      "file is not there\n"
     ]
    }
   ],
   "source": [
    "try:\n",
    "    f=open('test1.txt')\n",
    "    var = var1\n",
    "except FileNotFoundError:\n",
    "    print('file is not there')"
   ]
  },
  {
   "cell_type": "code",
   "execution_count": 25,
   "id": "73296609-e2a4-49b2-825d-52036fd9340d",
   "metadata": {},
   "outputs": [
    {
     "ename": "NameError",
     "evalue": "name 'var' is not defined",
     "output_type": "error",
     "traceback": [
      "\u001b[1;31m---------------------------------------------------------------------------\u001b[0m",
      "\u001b[1;31mNameError\u001b[0m                                 Traceback (most recent call last)",
      "Cell \u001b[1;32mIn[25], line 3\u001b[0m\n\u001b[0;32m      1\u001b[0m \u001b[38;5;28;01mtry\u001b[39;00m:\n\u001b[0;32m      2\u001b[0m     f\u001b[38;5;241m=\u001b[39m\u001b[38;5;28mopen\u001b[39m(\u001b[38;5;124m'\u001b[39m\u001b[38;5;124mex.txt\u001b[39m\u001b[38;5;124m'\u001b[39m)\n\u001b[1;32m----> 3\u001b[0m     var\u001b[38;5;241m=\u001b[39mvar\n\u001b[0;32m      4\u001b[0m \u001b[38;5;28;01mexcept\u001b[39;00m \u001b[38;5;167;01mFileNotFoundError\u001b[39;00m:\n\u001b[0;32m      5\u001b[0m     \u001b[38;5;28mprint\u001b[39m(\u001b[38;5;124m'\u001b[39m\u001b[38;5;124mfile is not there\u001b[39m\u001b[38;5;124m'\u001b[39m)\n",
      "\u001b[1;31mNameError\u001b[0m: name 'var' is not defined"
     ]
    }
   ],
   "source": [
    "try:\n",
    "    f=open('ex.txt')\n",
    "    var=var\n",
    "except FileNotFoundError:\n",
    "    print('file is not there')\n"
   ]
  },
  {
   "cell_type": "code",
   "execution_count": 26,
   "id": "ee11439d-9fa8-43c3-927a-d58289f4b7f4",
   "metadata": {},
   "outputs": [
    {
     "name": "stdout",
     "output_type": "stream",
     "text": [
      "something went Wrong\n"
     ]
    }
   ],
   "source": [
    "try:\n",
    "    f=open('ex.txt')\n",
    "    var=var\n",
    "except FileNotFoundError:\n",
    "    print('file is not there')\n",
    "except NameError :\n",
    "    print('something went Wrong')"
   ]
  },
  {
   "cell_type": "code",
   "execution_count": 28,
   "id": "14c416a3-821a-477a-af75-a278a9094754",
   "metadata": {},
   "outputs": [
    {
     "name": "stdout",
     "output_type": "stream",
     "text": [
      "name 'var' is not defined\n"
     ]
    }
   ],
   "source": [
    "try:\n",
    "    f=open('ex.txt')\n",
    "    var=var\n",
    "except FileNotFoundError:\n",
    "    print('file is not there')\n",
    "except Exception as e:\n",
    "    print(e)\n"
   ]
  },
  {
   "cell_type": "code",
   "execution_count": 30,
   "id": "a93504c6-fd34-4e7e-9aeb-cadd5592f933",
   "metadata": {},
   "outputs": [
    {
     "name": "stdout",
     "output_type": "stream",
     "text": [
      "hello\n",
      "samiksha\n"
     ]
    }
   ],
   "source": [
    "try:\n",
    "    f=open('ex.txt')\n",
    "except FileNotFoundError:\n",
    "    print('file is not there')\n",
    "else:\n",
    "    print(f.read())\n",
    "    f.close()"
   ]
  },
  {
   "cell_type": "code",
   "execution_count": 32,
   "id": "a80ee0b3-d089-45a9-9509-beff02930238",
   "metadata": {},
   "outputs": [
    {
     "name": "stdout",
     "output_type": "stream",
     "text": [
      "file is not there\n",
      "finally\n"
     ]
    }
   ],
   "source": [
    "try:\n",
    "    f=open('test10.txt')\n",
    "except FileNotFoundError:\n",
    "    print('file is not there')\n",
    "else:\n",
    "    print('ok')\n",
    "finally:\n",
    "    print('finally')\n"
   ]
  },
  {
   "cell_type": "code",
   "execution_count": 33,
   "id": "395cd609-6ec0-4de8-955f-a5516af41faf",
   "metadata": {},
   "outputs": [
    {
     "name": "stdout",
     "output_type": "stream",
     "text": [
      "ok\n",
      "finally\n"
     ]
    }
   ],
   "source": [
    "try:\n",
    "    f=open('ex.txt')\n",
    "except FileNotFoundError:\n",
    "    print('file is not there')\n",
    "else:\n",
    "    print('ok')\n",
    "finally:\n",
    "    print('finally')"
   ]
  },
  {
   "cell_type": "code",
   "execution_count": null,
   "id": "d0a29552-5f39-488f-ae32-afc1b1175130",
   "metadata": {},
   "outputs": [],
   "source": []
  }
 ],
 "metadata": {
  "kernelspec": {
   "display_name": "Python 3 (ipykernel)",
   "language": "python",
   "name": "python3"
  },
  "language_info": {
   "codemirror_mode": {
    "name": "ipython",
    "version": 3
   },
   "file_extension": ".py",
   "mimetype": "text/x-python",
   "name": "python",
   "nbconvert_exporter": "python",
   "pygments_lexer": "ipython3",
   "version": "3.11.7"
  }
 },
 "nbformat": 4,
 "nbformat_minor": 5
}
