{
 "cells": [
  {
   "cell_type": "code",
   "execution_count": 1,
   "id": "50fb0bea-4328-47ab-8e9e-ed9c135948d9",
   "metadata": {},
   "outputs": [],
   "source": [
    "#menu drive"
   ]
  },
  {
   "cell_type": "code",
   "execution_count": 2,
   "id": "c6ca10ce-f05d-441b-a3da-3033a7d32b4f",
   "metadata": {},
   "outputs": [],
   "source": [
    "#read 2 number and perform add,sub,floor div\n",
    "#which one is greater based on the choice"
   ]
  },
  {
   "cell_type": "code",
   "execution_count": 10,
   "id": "294787a7-c99b-463d-9d0d-fad3cf48cee7",
   "metadata": {},
   "outputs": [
    {
     "name": "stdin",
     "output_type": "stream",
     "text": [
      "enter the number 4\n",
      "enter the number 2\n"
     ]
    },
    {
     "name": "stdout",
     "output_type": "stream",
     "text": [
      "menu:\n",
      "1.add\n",
      "2.sub\n",
      "3.floor div\n",
      "4.greater\n"
     ]
    },
    {
     "name": "stdin",
     "output_type": "stream",
     "text": [
      "enter your choice 2\n"
     ]
    },
    {
     "name": "stdout",
     "output_type": "stream",
     "text": [
      "sub= 2\n"
     ]
    }
   ],
   "source": [
    "num1=int(input('enter the number'))\n",
    "num2=int(input('enter the number'))\n",
    "print('menu:\\n1.add\\n2.sub\\n3.floor div\\n4.greater')\n",
    "choice=int(input('enter your choice'))\n",
    "if choice==1:\n",
    "    add=num1+num2\n",
    "    print('add=',add)\n",
    "if choice==2:\n",
    "    sub=num1-num2\n",
    "    print('sub=',sub)\n",
    "if choice==3:\n",
    "    div=num1//num2\n",
    "    print('div=',div)\n",
    "if choice==1:\n",
    "    add=num1+num2\n",
    "    print('add=',add)\n",
    "if choice==4:\n",
    "    if num1>num2:\n",
    "       print('greater')\n",
    "    else:\n",
    "        print('smaller')"
   ]
  },
  {
   "cell_type": "markdown",
   "id": "fc8a5044-ed37-46ad-b0cd-f63a4b7f7b21",
   "metadata": {},
   "source": [
    "### loop"
   ]
  },
  {
   "cell_type": "code",
   "execution_count": 11,
   "id": "94a371ee-ee6b-4cde-84aa-bc1a9d6bfea4",
   "metadata": {},
   "outputs": [
    {
     "name": "stdout",
     "output_type": "stream",
     "text": [
      "nilam\n",
      "nilam\n",
      "nilam\n",
      "nilam\n",
      "nilam\n"
     ]
    }
   ],
   "source": [
    "count=1\n",
    "while count<=5:\n",
    "    print('nilam')\n",
    "    count=count+1"
   ]
  },
  {
   "cell_type": "code",
   "execution_count": 16,
   "id": "2ab0744c-55b2-4e6a-9e51-e8ccfafcc7c1",
   "metadata": {},
   "outputs": [
    {
     "name": "stdout",
     "output_type": "stream",
     "text": [
      "5 6 7 8 9 10 11 12 13 14 15 goodbye!!!\n",
      "16\n"
     ]
    }
   ],
   "source": [
    "#print no. from 5to 15\n",
    "count=5\n",
    "while count<=15:\n",
    "    print(count,end=' ')\n",
    "    count+=1\n",
    "    \n",
    "print('goodbye!!!')\n",
    "print(count)"
   ]
  },
  {
   "cell_type": "code",
   "execution_count": 43,
   "id": "220db77e-d28a-458c-a34a-58baff4ae14a",
   "metadata": {},
   "outputs": [
    {
     "name": "stdout",
     "output_type": "stream",
     "text": [
      "1 3 6 10 15 21 28 36 45 55 addition is 55\n",
      "11\n"
     ]
    }
   ],
   "source": [
    "#printthe addition of no. from 1 to 10\n",
    "count=1\n",
    "add=0\n",
    "while count<=10:\n",
    "    add=add+count\n",
    "    print(add,end=' ')\n",
    "    count+=1\n",
    "\n",
    "print('addition is',add)\n",
    "print(count)"
   ]
  },
  {
   "cell_type": "code",
   "execution_count": null,
   "id": "3e01eacd-3617-4aed-9904-948a35c87e83",
   "metadata": {},
   "outputs": [],
   "source": [
    "#print the addition of all odd numbers from 1 to 20 "
   ]
  },
  {
   "cell_type": "code",
   "execution_count": null,
   "id": "24712857-2111-4eb5-813e-86af43f8835c",
   "metadata": {},
   "outputs": [],
   "source": [
    "count=1\n",
    "add=0\n",
    "while count<=20:       \n",
    "          add=add+count\n",
    "          count+=2\n",
    "          \n",
    "print('addition is=',add)"
   ]
  },
  {
   "cell_type": "code",
   "execution_count": 53,
   "id": "9e00a305-46eb-4c3f-9094-c8d9b599106b",
   "metadata": {},
   "outputs": [],
   "source": [
    "#factorial"
   ]
  },
  {
   "cell_type": "markdown",
   "id": "c0c9a0fe-2c1e-4132-8c25-444e13a94332",
   "metadata": {},
   "source": []
  },
  {
   "cell_type": "code",
   "execution_count": 29,
   "id": "3e15ee98-a8cd-499c-a08f-9e570d5e26b9",
   "metadata": {},
   "outputs": [
    {
     "name": "stdout",
     "output_type": "stream",
     "text": [
      "loop end\n",
      "factorial 120\n"
     ]
    }
   ],
   "source": [
    "num=1\n",
    "fact=1\n",
    "while num<=5:\n",
    "       fact=fact*num\n",
    "       num=num+1\n",
    "else: \n",
    "    print('loop end')\n",
    "    print('factorial',fact)\n"
   ]
  },
  {
   "cell_type": "code",
   "execution_count": 58,
   "id": "f87aeb6d-39c4-4572-9889-ffc8040eb390",
   "metadata": {},
   "outputs": [
    {
     "name": "stdout",
     "output_type": "stream",
     "text": [
      "factorial= 120\n"
     ]
    }
   ],
   "source": [
    "fact=1\n",
    "count=5\n",
    "while count>=1:\n",
    "       fact=fact*count\n",
    "       count=count-1\n",
    "\n",
    "\n",
    "print('factorial=',fact)\n"
   ]
  },
  {
   "cell_type": "code",
   "execution_count": null,
   "id": "621ce5f6-5678-455d-8c4c-b15b5c2be4e1",
   "metadata": {},
   "outputs": [],
   "source": [
    "#find the sum of digits in a number 12345"
   ]
  },
  {
   "cell_type": "code",
   "execution_count": 40,
   "id": "f9223138-44c7-4ed2-8c7f-5ad307e7c9a2",
   "metadata": {},
   "outputs": [
    {
     "name": "stdin",
     "output_type": "stream",
     "text": [
      "enter the number 123\n"
     ]
    },
    {
     "name": "stdout",
     "output_type": "stream",
     "text": [
      "addition of digit is 6\n"
     ]
    }
   ],
   "source": [
    "num=int(input('enter the number'))\n",
    "add=0\n",
    "while num>0:\n",
    "    digit=num%10\n",
    "    num=num//10\n",
    "    add=add+digit\n",
    " \n",
    "\n",
    "print('addition of digit is',add)"
   ]
  },
  {
   "cell_type": "code",
   "execution_count": 43,
   "id": "7ef40dd9-df19-4aee-9b6d-b9c612f70e19",
   "metadata": {},
   "outputs": [],
   "source": [
    "#for loop"
   ]
  },
  {
   "cell_type": "code",
   "execution_count": 51,
   "id": "47c9b363-f159-4b54-9756-44ff5a422787",
   "metadata": {},
   "outputs": [
    {
     "name": "stdout",
     "output_type": "stream",
     "text": [
      "12 34 45 21 adi True "
     ]
    }
   ],
   "source": [
    "for n in 12,34,45,21,'adi',True:\n",
    "    #print(n)\n",
    "   # print(' ')\n",
    "    print(n,end=' ')"
   ]
  },
  {
   "cell_type": "code",
   "execution_count": 54,
   "id": "5c119eec-306a-41d3-888b-c6364096e810",
   "metadata": {},
   "outputs": [
    {
     "name": "stdout",
     "output_type": "stream",
     "text": [
      "0.5\n",
      "1.0\n",
      "1.5\n",
      "2.0\n",
      "2.5\n",
      "28.0\n"
     ]
    }
   ],
   "source": [
    "for n in 1,2,3,4,5,56:\n",
    "    print(n/2)"
   ]
  },
  {
   "cell_type": "code",
   "execution_count": 55,
   "id": "298bea13-79e7-455e-b1d0-14f1485fb473",
   "metadata": {},
   "outputs": [
    {
     "data": {
      "text/plain": [
       "[5, 6, 7, 8, 9, 10, 11, 12, 13, 14, 15, 16, 17, 18, 19]"
      ]
     },
     "execution_count": 55,
     "metadata": {},
     "output_type": "execute_result"
    }
   ],
   "source": [
    "#range function\n",
    "list(range(5,20))"
   ]
  },
  {
   "cell_type": "code",
   "execution_count": 58,
   "id": "f6b92f8c-19a1-4e0d-9836-d0ac94d8a98a",
   "metadata": {},
   "outputs": [
    {
     "data": {
      "text/plain": [
       "[5, 7, 9, 11, 13, 15, 17, 19]"
      ]
     },
     "execution_count": 58,
     "metadata": {},
     "output_type": "execute_result"
    }
   ],
   "source": [
    "list(range(5,20,2))"
   ]
  },
  {
   "cell_type": "code",
   "execution_count": 59,
   "id": "4f8825c0-fcea-4515-829f-7c0ddf2bd0e8",
   "metadata": {},
   "outputs": [],
   "source": [
    "#range(start,end+1,step)"
   ]
  },
  {
   "cell_type": "code",
   "execution_count": 60,
   "id": "60ae2dc3-60a2-4a4b-b6d0-1cdb3aac96a4",
   "metadata": {},
   "outputs": [
    {
     "name": "stdout",
     "output_type": "stream",
     "text": [
      "1 2 3 4 5 6 7 8 9 10 "
     ]
    }
   ],
   "source": [
    "for n in range(1,11):\n",
    "    print(n,end=' ')"
   ]
  },
  {
   "cell_type": "code",
   "execution_count": 62,
   "id": "ec03335c-538a-44fe-998d-08ba1939846f",
   "metadata": {},
   "outputs": [
    {
     "name": "stdout",
     "output_type": "stream",
     "text": [
      "additon 100\n"
     ]
    }
   ],
   "source": [
    "#addition of odd number from 1 to 20\n",
    "add=0\n",
    "for n in range(1,21,2):\n",
    "    add=add+n\n",
    "print('additon',add)"
   ]
  },
  {
   "cell_type": "code",
   "execution_count": 63,
   "id": "ee0507d5-8ac2-41ab-a93f-39830c484033",
   "metadata": {},
   "outputs": [
    {
     "name": "stdout",
     "output_type": "stream",
     "text": [
      "nilam\n",
      "nilam\n",
      "nilam\n",
      "nilam\n",
      "nilam\n",
      "nilam\n",
      "nilam\n",
      "nilam\n",
      "nilam\n",
      "nilam\n"
     ]
    }
   ],
   "source": [
    "for n in range(1,11):\n",
    "    print('nilam')"
   ]
  },
  {
   "cell_type": "code",
   "execution_count": 64,
   "id": "dffd4cd9-b6d3-4091-a75d-2df688595b5f",
   "metadata": {},
   "outputs": [
    {
     "name": "stdout",
     "output_type": "stream",
     "text": [
      "aditya aditya aditya aditya aditya aditya aditya aditya aditya aditya "
     ]
    }
   ],
   "source": [
    "for n in range(10):\n",
    "    print('aditya',end=' ')"
   ]
  },
  {
   "cell_type": "code",
   "execution_count": 66,
   "id": "9370dfd3-8d60-48d0-b01a-8b12858a002f",
   "metadata": {},
   "outputs": [
    {
     "name": "stdout",
     "output_type": "stream",
     "text": [
      "t\n",
      "a\n",
      "n\n",
      "v\n",
      "i\n"
     ]
    }
   ],
   "source": [
    "for n in 'tanvi':\n",
    "  print(n)"
   ]
  },
  {
   "cell_type": "code",
   "execution_count": 67,
   "id": "497b88ef-fc52-4363-a406-90847e490e4a",
   "metadata": {},
   "outputs": [
    {
     "name": "stdout",
     "output_type": "stream",
     "text": [
      "tanvi\n",
      "ganesh\n"
     ]
    }
   ],
   "source": [
    "for n in 'tanvi','ganesh':\n",
    "    print(n)"
   ]
  },
  {
   "cell_type": "code",
   "execution_count": 68,
   "id": "40d47463-dbaa-48fd-89ee-92170432d7f0",
   "metadata": {},
   "outputs": [],
   "source": [
    "l=[23,45,21,67]"
   ]
  },
  {
   "cell_type": "code",
   "execution_count": 69,
   "id": "513ca10a-708d-4c2c-bc2e-73c3f5ca4d7c",
   "metadata": {},
   "outputs": [
    {
     "name": "stdout",
     "output_type": "stream",
     "text": [
      "23\n",
      "45\n",
      "21\n",
      "67\n",
      "loop ended\n"
     ]
    }
   ],
   "source": [
    "for n in l:\n",
    "    print(n)\n",
    "else:\n",
    "    print('loop ended')"
   ]
  },
  {
   "cell_type": "code",
   "execution_count": 70,
   "id": "8b1bbda7-30e9-43f0-9012-4a442f01be05",
   "metadata": {},
   "outputs": [],
   "source": [
    "#find the factorial of a number using for loop"
   ]
  },
  {
   "cell_type": "code",
   "execution_count": 73,
   "id": "146f31cd-4d13-4cd9-a50c-1e755521b2b9",
   "metadata": {},
   "outputs": [
    {
     "name": "stdin",
     "output_type": "stream",
     "text": [
      "enter the number 5\n"
     ]
    },
    {
     "name": "stdout",
     "output_type": "stream",
     "text": [
      "factorial= 120\n"
     ]
    }
   ],
   "source": [
    "n=int(input('enter the number'))\n",
    "fact=1\n",
    "for n in range(1,n+1):\n",
    "    fact=fact*n\n",
    "print('factorial=',fact)\n",
    "\n"
   ]
  },
  {
   "cell_type": "markdown",
   "id": "780e2789-9177-471e-b8d9-c9e26103eecd",
   "metadata": {},
   "source": [
    "### break statement"
   ]
  },
  {
   "cell_type": "code",
   "execution_count": 78,
   "id": "7dd24d69-9734-42da-a8b9-58bb10698585",
   "metadata": {},
   "outputs": [
    {
     "name": "stdout",
     "output_type": "stream",
     "text": [
      "1\n",
      "2\n",
      "3\n",
      "4\n"
     ]
    }
   ],
   "source": [
    "for n in range(1,10):\n",
    "    if n==5:\n",
    "        break\n",
    "    print(n)"
   ]
  },
  {
   "cell_type": "code",
   "execution_count": 79,
   "id": "34b491ea-28d5-4bfd-8c87-a47c1253fe29",
   "metadata": {},
   "outputs": [
    {
     "name": "stdout",
     "output_type": "stream",
     "text": [
      "1\n",
      "2\n",
      "3\n",
      "4\n",
      "6\n",
      "7\n",
      "8\n",
      "9\n"
     ]
    }
   ],
   "source": [
    "for n in range(1,10):\n",
    "    if n==5:\n",
    "        continue\n",
    "    print(n)"
   ]
  },
  {
   "cell_type": "code",
   "execution_count": 80,
   "id": "db1e8070-39b7-4a0c-9a52-7ed0e2b8f189",
   "metadata": {},
   "outputs": [
    {
     "name": "stdout",
     "output_type": "stream",
     "text": [
      "0\n",
      "1\n",
      "2\n",
      "3\n",
      "4\n",
      "5\n"
     ]
    }
   ],
   "source": [
    "count=0\n",
    "while count<10:\n",
    "    print(count)\n",
    "    if count==5:\n",
    "        break  #continue\n",
    "    count+=1"
   ]
  },
  {
   "cell_type": "code",
   "execution_count": 81,
   "id": "96ee5a49-c8fe-4ea4-9933-bf83ff64af3f",
   "metadata": {},
   "outputs": [],
   "source": [
    "#print odd number from 1 to 12 using cotinue statement"
   ]
  },
  {
   "cell_type": "code",
   "execution_count": 106,
   "id": "a6ca170e-a7a9-4621-adc5-2dbc022488ba",
   "metadata": {},
   "outputs": [
    {
     "name": "stdout",
     "output_type": "stream",
     "text": [
      "1\n",
      "3\n",
      "5\n",
      "7\n",
      "9\n",
      "11\n"
     ]
    }
   ],
   "source": [
    "for i in range(1,13):\n",
    "    if i%2==0:\n",
    "        continue\n",
    "    print(i)\n",
    "    "
   ]
  },
  {
   "cell_type": "code",
   "execution_count": 108,
   "id": "d767bbb9-1c72-4b0a-80b7-3fbe49de9daf",
   "metadata": {},
   "outputs": [],
   "source": [
    "pass\n",
    "num=5\n",
    "if num>1:\n",
    "    pass\n",
    "    "
   ]
  },
  {
   "cell_type": "code",
   "execution_count": 110,
   "id": "1558f985-68c5-4f25-82a6-51e10f3b735b",
   "metadata": {},
   "outputs": [
    {
     "data": {
      "text/plain": [
       "' *\\n    **\\n    ***'"
      ]
     },
     "execution_count": 110,
     "metadata": {},
     "output_type": "execute_result"
    }
   ],
   "source": [
    "#nested loop\n",
    "''' *\n",
    "    **\n",
    "    ***'''"
   ]
  },
  {
   "cell_type": "code",
   "execution_count": 125,
   "id": "1e263e88-cc0c-4ce2-87d3-1865b4482fdd",
   "metadata": {},
   "outputs": [
    {
     "name": "stdout",
     "output_type": "stream",
     "text": [
      "* \n",
      "* * \n",
      "* * * \n"
     ]
    }
   ],
   "source": [
    "row=3\n",
    "for i in range(1,row+1):\n",
    "    for j in range(i):\n",
    "        print('*',end=' ')\n",
    "    print( )\n",
    "    "
   ]
  },
  {
   "cell_type": "code",
   "execution_count": null,
   "id": "4290afd0-f328-41da-a043-07e168462a9d",
   "metadata": {},
   "outputs": [],
   "source": []
  },
  {
   "cell_type": "code",
   "execution_count": null,
   "id": "02fa00a1-bea3-45d0-a403-8c088a97b201",
   "metadata": {},
   "outputs": [],
   "source": []
  }
 ],
 "metadata": {
  "kernelspec": {
   "display_name": "Python 3 (ipykernel)",
   "language": "python",
   "name": "python3"
  },
  "language_info": {
   "codemirror_mode": {
    "name": "ipython",
    "version": 3
   },
   "file_extension": ".py",
   "mimetype": "text/x-python",
   "name": "python",
   "nbconvert_exporter": "python",
   "pygments_lexer": "ipython3",
   "version": "3.11.7"
  }
 },
 "nbformat": 4,
 "nbformat_minor": 5
}
