{
 "cells": [
  {
   "cell_type": "code",
   "execution_count": 2,
   "id": "eba7517b-4cd5-477c-9534-ec083c1dac4b",
   "metadata": {},
   "outputs": [],
   "source": [
    "def show():      #function defination\n",
    "    print('hello')\n",
    "    print('ok')\n",
    "    print('goodbye')"
   ]
  },
  {
   "cell_type": "code",
   "execution_count": 6,
   "id": "3dd9f99b-a5f8-4642-8166-9586b627dc5f",
   "metadata": {},
   "outputs": [
    {
     "name": "stdout",
     "output_type": "stream",
     "text": [
      "hello\n",
      "ok\n",
      "goodbye\n"
     ]
    }
   ],
   "source": [
    "show()"
   ]
  },
  {
   "cell_type": "code",
   "execution_count": 5,
   "id": "d49a3a59-9212-4c99-a9b1-629e321669c7",
   "metadata": {},
   "outputs": [
    {
     "name": "stdout",
     "output_type": "stream",
     "text": [
      "hello\n",
      "ok\n",
      "goodbye\n",
      "hello\n",
      "ok\n",
      "goodbye\n",
      "hello\n",
      "ok\n",
      "goodbye\n"
     ]
    }
   ],
   "source": [
    "show()\n",
    "show()\n",
    "show()"
   ]
  },
  {
   "cell_type": "code",
   "execution_count": 10,
   "id": "1bbccb81-23c9-44a9-a669-db42f68640a0",
   "metadata": {},
   "outputs": [],
   "source": [
    "#parameterized function\n",
    "def square(n):\n",
    "    result=n*n\n",
    "    print('square is ',result)"
   ]
  },
  {
   "cell_type": "code",
   "execution_count": 11,
   "id": "f18ff19c-172c-4f1b-8cc9-9f0316cb5d03",
   "metadata": {},
   "outputs": [
    {
     "name": "stdout",
     "output_type": "stream",
     "text": [
      "square is  100\n"
     ]
    }
   ],
   "source": [
    "square(10)"
   ]
  },
  {
   "cell_type": "code",
   "execution_count": 40,
   "id": "b04168bf-4c3e-458b-a3a2-3c90ab1ae758",
   "metadata": {},
   "outputs": [
    {
     "name": "stdin",
     "output_type": "stream",
     "text": [
      "enter the number 5\n"
     ]
    },
    {
     "name": "stdout",
     "output_type": "stream",
     "text": [
      "square is  25\n"
     ]
    }
   ],
   "source": [
    "num=int(input('enter the number'))\n",
    "square(num)"
   ]
  },
  {
   "cell_type": "code",
   "execution_count": 49,
   "id": "5bcb4401-947d-4d56-a60a-00730a88bc8f",
   "metadata": {},
   "outputs": [],
   "source": [
    "#multi parameterized function"
   ]
  },
  {
   "cell_type": "raw",
   "id": "075fa1e3-9c6b-4f84-a44a-f17431fd3a78",
   "metadata": {},
   "source": []
  },
  {
   "cell_type": "code",
   "execution_count": 60,
   "id": "e65fea6d-7776-48d5-a417-8a136dcb46e3",
   "metadata": {},
   "outputs": [],
   "source": [
    "def largest(a, b):\n",
    " if a>b:\n",
    "     print(a,'is greater')\n",
    " elif a==b:\n",
    "     print('equal')\n",
    " else:\n",
    "     print(b,'is greater')"
   ]
  },
  {
   "cell_type": "code",
   "execution_count": 61,
   "id": "88250a47-298c-48bf-8e54-afa165bac8e0",
   "metadata": {},
   "outputs": [
    {
     "name": "stdout",
     "output_type": "stream",
     "text": [
      "67 is greater\n"
     ]
    }
   ],
   "source": [
    "largest(48,67)"
   ]
  },
  {
   "cell_type": "code",
   "execution_count": 56,
   "id": "c6ae5981-db0d-44cc-94f4-6a109c4513f0",
   "metadata": {},
   "outputs": [],
   "source": [
    "#write a function which will print a string n number of time"
   ]
  },
  {
   "cell_type": "code",
   "execution_count": 26,
   "id": "2b6d94c5-3b74-4489-a828-ba57d49e14f5",
   "metadata": {},
   "outputs": [],
   "source": [
    "def dis (name,count):\n",
    "    for i in range(count):\n",
    "        print(name)"
   ]
  },
  {
   "cell_type": "code",
   "execution_count": 27,
   "id": "609f1db6-94d4-4058-8e92-4747aa6e9c97",
   "metadata": {},
   "outputs": [
    {
     "name": "stdout",
     "output_type": "stream",
     "text": [
      "pune\n",
      "pune\n",
      "pune\n",
      "pune\n",
      "pune\n",
      "pune\n",
      "pune\n"
     ]
    }
   ],
   "source": [
    "dis('pune',7)\n"
   ]
  },
  {
   "cell_type": "code",
   "execution_count": 28,
   "id": "6f8dbb19-6782-4ed3-b95b-c2482ef70378",
   "metadata": {},
   "outputs": [],
   "source": [
    "#function for factorial"
   ]
  },
  {
   "cell_type": "code",
   "execution_count": 37,
   "id": "41f9b287-77fa-4442-afd7-12508fa6ca58",
   "metadata": {},
   "outputs": [],
   "source": [
    "def facto(n):\n",
    "    fact=1\n",
    "    for i in range(1,n+1):\n",
    "         fact=fact*i\n",
    "    print('factorial:',fact)"
   ]
  },
  {
   "cell_type": "code",
   "execution_count": 38,
   "id": "2915e669-b218-46e3-8975-9f26e8439c83",
   "metadata": {},
   "outputs": [
    {
     "name": "stdout",
     "output_type": "stream",
     "text": [
      "factorial: 120\n"
     ]
    }
   ],
   "source": [
    "facto(5)"
   ]
  },
  {
   "cell_type": "code",
   "execution_count": 45,
   "id": "8e5ec7aa-71c0-4dcc-a2fa-78490c2af2a5",
   "metadata": {},
   "outputs": [],
   "source": [
    "#function returning value"
   ]
  },
  {
   "cell_type": "code",
   "execution_count": 47,
   "id": "8736a44c-a329-4a19-bdd9-f0df63d3df6a",
   "metadata": {},
   "outputs": [],
   "source": [
    "def square(n):\n",
    "    result=n*n\n",
    "    return result"
   ]
  },
  {
   "cell_type": "code",
   "execution_count": 48,
   "id": "26c58589-6458-4ed0-a489-cd48863c90e6",
   "metadata": {},
   "outputs": [
    {
     "data": {
      "text/plain": [
       "25"
      ]
     },
     "execution_count": 48,
     "metadata": {},
     "output_type": "execute_result"
    }
   ],
   "source": [
    "square(5)"
   ]
  },
  {
   "cell_type": "code",
   "execution_count": 50,
   "id": "aff254a7-e157-49de-81c6-71ed87df53bb",
   "metadata": {},
   "outputs": [],
   "source": [
    "#### difference between return and print"
   ]
  },
  {
   "cell_type": "code",
   "execution_count": 54,
   "id": "e18d6641-5071-422b-93a1-33f1dc311fad",
   "metadata": {},
   "outputs": [
    {
     "name": "stdout",
     "output_type": "stream",
     "text": [
      "15\n",
      "None\n",
      "15\n",
      "result None\n"
     ]
    }
   ],
   "source": [
    "def add(a, b):\n",
    "    result=a+b\n",
    "    print(result)\n",
    "\n",
    "print(add(5, 10))\n",
    "op=add(5, 10)\n",
    "\n",
    "print('result',op)"
   ]
  },
  {
   "cell_type": "code",
   "execution_count": 55,
   "id": "516d19b3-9d27-429d-87a4-031b0ad9a08a",
   "metadata": {},
   "outputs": [
    {
     "name": "stdout",
     "output_type": "stream",
     "text": [
      "15\n",
      "result 15\n"
     ]
    }
   ],
   "source": [
    "def add(a, b):\n",
    "    result=a+b\n",
    "    return result\n",
    "\n",
    "print(add(5, 10))\n",
    "op=add(5, 10)\n",
    "\n",
    "print('result',op)"
   ]
  },
  {
   "cell_type": "code",
   "execution_count": 130,
   "id": "9b70e603-85d1-4fb9-9d46-092cd3793dbe",
   "metadata": {},
   "outputs": [],
   "source": [
    "def largest(a, b):\n",
    " if a>b:\n",
    "     return a\n",
    " elif a==b:\n",
    "     return 'equal'\n",
    " else:\n",
    "     return b"
   ]
  },
  {
   "cell_type": "code",
   "execution_count": 132,
   "id": "42ca243d-dc94-43a8-83e2-a03cc532d134",
   "metadata": {},
   "outputs": [
    {
     "data": {
      "text/plain": [
       "'equal'"
      ]
     },
     "execution_count": 132,
     "metadata": {},
     "output_type": "execute_result"
    }
   ],
   "source": [
    "largest(7, 7)"
   ]
  },
  {
   "cell_type": "code",
   "execution_count": 62,
   "id": "cc510bd4-e189-4cd7-9439-72574eb7f053",
   "metadata": {},
   "outputs": [],
   "source": [
    "#perm and comb\n",
    "#ncr=n!/r!(n-r)!"
   ]
  },
  {
   "cell_type": "code",
   "execution_count": 161,
   "id": "54293dda-3130-4e14-8bd7-13026992f42e",
   "metadata": {},
   "outputs": [],
   "source": [
    "def facto(n):\n",
    "    fact=1\n",
    "    for i in range(1,n+1):\n",
    "         fact=fact*i\n",
    "         return fact"
   ]
  },
  {
   "cell_type": "code",
   "execution_count": 162,
   "id": "8c93f15c-c555-461c-83f6-eb87477b2948",
   "metadata": {},
   "outputs": [
    {
     "name": "stdin",
     "output_type": "stream",
     "text": [
      "total: 5\n",
      "combination of: 4\n"
     ]
    },
    {
     "name": "stdout",
     "output_type": "stream",
     "text": [
      "1.0\n"
     ]
    }
   ],
   "source": [
    "n=int(input('total:'))\n",
    "r=int(input('combination of:'))\n",
    "ncr=facto(n)/(facto(r) * facto(n-r))\n",
    "print(ncr)"
   ]
  },
  {
   "cell_type": "code",
   "execution_count": 160,
   "id": "a1553468-e251-4485-b7ee-79500acebd78",
   "metadata": {},
   "outputs": [
    {
     "name": "stdin",
     "output_type": "stream",
     "text": [
      "total: 5\n",
      "combination of: 4\n"
     ]
    },
    {
     "ename": "TypeError",
     "evalue": "unsupported operand type(s) for *: 'NoneType' and 'NoneType'",
     "output_type": "error",
     "traceback": [
      "\u001b[1;31m---------------------------------------------------------------------------\u001b[0m",
      "\u001b[1;31mTypeError\u001b[0m                                 Traceback (most recent call last)",
      "Cell \u001b[1;32mIn[160], line 3\u001b[0m\n\u001b[0;32m      1\u001b[0m n\u001b[38;5;241m=\u001b[39m\u001b[38;5;28mint\u001b[39m(\u001b[38;5;28minput\u001b[39m(\u001b[38;5;124m'\u001b[39m\u001b[38;5;124mtotal:\u001b[39m\u001b[38;5;124m'\u001b[39m))\n\u001b[0;32m      2\u001b[0m r\u001b[38;5;241m=\u001b[39m\u001b[38;5;28mint\u001b[39m(\u001b[38;5;28minput\u001b[39m(\u001b[38;5;124m'\u001b[39m\u001b[38;5;124mcombination of:\u001b[39m\u001b[38;5;124m'\u001b[39m))\n\u001b[1;32m----> 3\u001b[0m ncr\u001b[38;5;241m=\u001b[39mfacto(n)\u001b[38;5;241m/\u001b[39m(facto(r) \u001b[38;5;241m*\u001b[39m facto(n\u001b[38;5;241m-\u001b[39mr))\n\u001b[0;32m      4\u001b[0m \u001b[38;5;28mprint\u001b[39m(ncr)\n",
      "\u001b[1;31mTypeError\u001b[0m: unsupported operand type(s) for *: 'NoneType' and 'NoneType'"
     ]
    }
   ],
   "source": []
  },
  {
   "cell_type": "code",
   "execution_count": 68,
   "id": "1b7ff8da-d5e7-45f3-8be0-de3c9067e371",
   "metadata": {},
   "outputs": [],
   "source": [
    "def calc(n):\n",
    "    sq=n*n\n",
    "    cu=n**3\n",
    "    return sq,cu"
   ]
  },
  {
   "cell_type": "code",
   "execution_count": 69,
   "id": "6dcd9b73-3d0f-44d8-9c5d-4871160c8455",
   "metadata": {},
   "outputs": [
    {
     "data": {
      "text/plain": [
       "(25, 125)"
      ]
     },
     "execution_count": 69,
     "metadata": {},
     "output_type": "execute_result"
    }
   ],
   "source": [
    "calc(5)"
   ]
  },
  {
   "cell_type": "code",
   "execution_count": 70,
   "id": "1c3db02e-6694-4963-9868-028c197db4b2",
   "metadata": {},
   "outputs": [
    {
     "name": "stdin",
     "output_type": "stream",
     "text": [
      "enter the number 5\n"
     ]
    },
    {
     "name": "stdout",
     "output_type": "stream",
     "text": [
      "square 25\n",
      "cube  125\n"
     ]
    }
   ],
   "source": [
    "n=int(input('enter the number'))\n",
    "x,y=calc(n)\n",
    "print('square',x)\n",
    "print('cube ',y)"
   ]
  },
  {
   "cell_type": "code",
   "execution_count": 71,
   "id": "44b678cd-dc57-49b7-b5b1-be3921cdbcf8",
   "metadata": {},
   "outputs": [],
   "source": [
    "#default parameter\n",
    "def add3(a=5,b=7,c=10):\n",
    "    result=a+b+c\n",
    "    return result"
   ]
  },
  {
   "cell_type": "markdown",
   "id": "27d3e4bb-f9a5-4504-b027-db101c37677a",
   "metadata": {},
   "source": []
  },
  {
   "cell_type": "code",
   "execution_count": 72,
   "id": "890e723f-b842-4da6-b96b-b8c2f74ff9ec",
   "metadata": {},
   "outputs": [
    {
     "data": {
      "text/plain": [
       "22"
      ]
     },
     "execution_count": 72,
     "metadata": {},
     "output_type": "execute_result"
    }
   ],
   "source": [
    "add3()\n"
   ]
  },
  {
   "cell_type": "code",
   "execution_count": 73,
   "id": "1cc481f5-4de3-4ac7-b5f8-efb2c47a40f6",
   "metadata": {},
   "outputs": [
    {
     "data": {
      "text/plain": [
       "27"
      ]
     },
     "execution_count": 73,
     "metadata": {},
     "output_type": "execute_result"
    }
   ],
   "source": [
    "add3(10)"
   ]
  },
  {
   "cell_type": "code",
   "execution_count": 74,
   "id": "cf02b364-4e56-4beb-ad9c-fb6cd33bf2a1",
   "metadata": {},
   "outputs": [
    {
     "data": {
      "text/plain": [
       "30"
      ]
     },
     "execution_count": 74,
     "metadata": {},
     "output_type": "execute_result"
    }
   ],
   "source": [
    "add3(10, 10)"
   ]
  },
  {
   "cell_type": "code",
   "execution_count": 75,
   "id": "ecb85c90-3e90-4192-bd10-1fede8715d73",
   "metadata": {},
   "outputs": [
    {
     "data": {
      "text/plain": [
       "37"
      ]
     },
     "execution_count": 75,
     "metadata": {},
     "output_type": "execute_result"
    }
   ],
   "source": [
    "add3(a=10,c=20)"
   ]
  },
  {
   "cell_type": "code",
   "execution_count": 78,
   "id": "171c7476-2af2-4e3a-bb6f-02f22421ebce",
   "metadata": {},
   "outputs": [],
   "source": [
    "def add3(b,a=5,c=10):\n",
    "    result=a+b+c\n",
    "    return result"
   ]
  },
  {
   "cell_type": "code",
   "execution_count": 77,
   "id": "c9109ccd-049c-43c0-b6ea-5c8d468e0137",
   "metadata": {},
   "outputs": [
    {
     "data": {
      "text/plain": [
       "25"
      ]
     },
     "execution_count": 77,
     "metadata": {},
     "output_type": "execute_result"
    }
   ],
   "source": [
    "add3(10)"
   ]
  },
  {
   "cell_type": "code",
   "execution_count": 79,
   "id": "7f191cfe-82e9-4209-8307-925cf13fe7fe",
   "metadata": {},
   "outputs": [],
   "source": [
    "def in1(*a):\n",
    "    print(*a)"
   ]
  },
  {
   "cell_type": "code",
   "execution_count": 80,
   "id": "a90ff775-4212-4b4e-9a13-d772f4d0849c",
   "metadata": {},
   "outputs": [
    {
     "name": "stdout",
     "output_type": "stream",
     "text": [
      "1 2 3 4 5 6 7\n"
     ]
    }
   ],
   "source": [
    "in1(1,2,3,4,5,6,7)"
   ]
  },
  {
   "cell_type": "code",
   "execution_count": 86,
   "id": "585af8c1-04a4-407c-ae3a-4e8bec5df32b",
   "metadata": {},
   "outputs": [],
   "source": [
    "def in1(*a):\n",
    "   for i in a:\n",
    "    print(i)"
   ]
  },
  {
   "cell_type": "code",
   "execution_count": 87,
   "id": "623005f6-696e-4b82-af7f-9cf3abb3d6f0",
   "metadata": {},
   "outputs": [
    {
     "name": "stdout",
     "output_type": "stream",
     "text": [
      "1\n",
      "2\n",
      "3\n",
      "4\n",
      "5\n",
      "6\n",
      "7\n"
     ]
    }
   ],
   "source": [
    "in1(1,2,3,4,5,6,7)"
   ]
  },
  {
   "cell_type": "code",
   "execution_count": 88,
   "id": "ec2c6664-5657-4ece-8b6a-3578dae663c2",
   "metadata": {},
   "outputs": [],
   "source": [
    "#lambda function"
   ]
  },
  {
   "cell_type": "code",
   "execution_count": 91,
   "id": "ca84b00f-7672-4bf7-b4e1-a3b3be222a4c",
   "metadata": {},
   "outputs": [],
   "source": [
    "square=lambda x:x*x"
   ]
  },
  {
   "cell_type": "raw",
   "id": "c5477e1a-fdfe-4e29-9046-0ab54cd3a3b1",
   "metadata": {},
   "source": [
    "square(5)"
   ]
  },
  {
   "cell_type": "code",
   "execution_count": 92,
   "id": "92456ea8-f828-4a2a-a777-90e912579e84",
   "metadata": {},
   "outputs": [
    {
     "data": {
      "text/plain": [
       "25"
      ]
     },
     "execution_count": 92,
     "metadata": {},
     "output_type": "execute_result"
    }
   ],
   "source": [
    "square(5)"
   ]
  },
  {
   "cell_type": "code",
   "execution_count": 93,
   "id": "ca1c3afb-5050-4099-b29d-e2680e3f890f",
   "metadata": {},
   "outputs": [],
   "source": [
    "square=lambda x,y:x+y"
   ]
  },
  {
   "cell_type": "code",
   "execution_count": 95,
   "id": "d3c1f6db-c91f-4770-b117-e5ef15a0246e",
   "metadata": {},
   "outputs": [
    {
     "data": {
      "text/plain": [
       "9"
      ]
     },
     "execution_count": 95,
     "metadata": {},
     "output_type": "execute_result"
    }
   ],
   "source": [
    "square(5,4)"
   ]
  },
  {
   "cell_type": "code",
   "execution_count": 101,
   "id": "6bd5ff6d-6636-467f-b957-176c3d9faf9c",
   "metadata": {},
   "outputs": [],
   "source": [
    "#filter\n",
    "num=[23,45,76,13,57,21]"
   ]
  },
  {
   "cell_type": "markdown",
   "id": "68be1e40-655a-4d92-b7e5-7bc5cd0f5e5f",
   "metadata": {},
   "source": [
    "new=filter(lambda x:x>40,num)"
   ]
  },
  {
   "cell_type": "code",
   "execution_count": 98,
   "id": "a2156dd8-67d8-401b-9156-e69b8a4068a2",
   "metadata": {},
   "outputs": [],
   "source": [
    "new=filter(lambda x:x>40,num)"
   ]
  },
  {
   "cell_type": "code",
   "execution_count": 99,
   "id": "9a2d0029-ca33-4b0b-98b9-71a072090161",
   "metadata": {},
   "outputs": [
    {
     "data": {
      "text/plain": [
       "[45, 76, 57]"
      ]
     },
     "execution_count": 99,
     "metadata": {},
     "output_type": "execute_result"
    }
   ],
   "source": [
    "list(new)"
   ]
  },
  {
   "cell_type": "code",
   "execution_count": 102,
   "id": "4c5cea38-e490-46a6-a734-bf34be89a70f",
   "metadata": {},
   "outputs": [],
   "source": [
    "new=map(lambda x:x/2,num)"
   ]
  },
  {
   "cell_type": "code",
   "execution_count": 103,
   "id": "b40e44c7-5499-40d0-9d6e-8215dee5d4fc",
   "metadata": {},
   "outputs": [
    {
     "data": {
      "text/plain": [
       "[11.5, 22.5, 38.0, 6.5, 28.5, 10.5]"
      ]
     },
     "execution_count": 103,
     "metadata": {},
     "output_type": "execute_result"
    }
   ],
   "source": [
    "list(new)"
   ]
  },
  {
   "cell_type": "code",
   "execution_count": 105,
   "id": "a8da9bca-22c3-4260-b892-ebcff170e439",
   "metadata": {},
   "outputs": [
    {
     "name": "stdout",
     "output_type": "stream",
     "text": [
      "[False, True, True, False, True, False]\n"
     ]
    }
   ],
   "source": [
    "new=map(lambda x:x>40,num)\n",
    "print(list(new))"
   ]
  },
  {
   "cell_type": "markdown",
   "id": "76073b4f-2f39-4acb-8811-8e9752a653f2",
   "metadata": {},
   "source": [
    "### module"
   ]
  },
  {
   "cell_type": "code",
   "execution_count": 106,
   "id": "c7d79ff0-3eba-4670-8605-ef45159be96d",
   "metadata": {},
   "outputs": [],
   "source": [
    "import math"
   ]
  },
  {
   "cell_type": "code",
   "execution_count": 107,
   "id": "306b9240-f4d3-490d-8ccb-14ca23074e84",
   "metadata": {},
   "outputs": [
    {
     "name": "stdout",
     "output_type": "stream",
     "text": [
      "Help on built-in module math:\n",
      "\n",
      "NAME\n",
      "    math\n",
      "\n",
      "DESCRIPTION\n",
      "    This module provides access to the mathematical functions\n",
      "    defined by the C standard.\n",
      "\n",
      "FUNCTIONS\n",
      "    acos(x, /)\n",
      "        Return the arc cosine (measured in radians) of x.\n",
      "        \n",
      "        The result is between 0 and pi.\n",
      "    \n",
      "    acosh(x, /)\n",
      "        Return the inverse hyperbolic cosine of x.\n",
      "    \n",
      "    asin(x, /)\n",
      "        Return the arc sine (measured in radians) of x.\n",
      "        \n",
      "        The result is between -pi/2 and pi/2.\n",
      "    \n",
      "    asinh(x, /)\n",
      "        Return the inverse hyperbolic sine of x.\n",
      "    \n",
      "    atan(x, /)\n",
      "        Return the arc tangent (measured in radians) of x.\n",
      "        \n",
      "        The result is between -pi/2 and pi/2.\n",
      "    \n",
      "    atan2(y, x, /)\n",
      "        Return the arc tangent (measured in radians) of y/x.\n",
      "        \n",
      "        Unlike atan(y/x), the signs of both x and y are considered.\n",
      "    \n",
      "    atanh(x, /)\n",
      "        Return the inverse hyperbolic tangent of x.\n",
      "    \n",
      "    cbrt(x, /)\n",
      "        Return the cube root of x.\n",
      "    \n",
      "    ceil(x, /)\n",
      "        Return the ceiling of x as an Integral.\n",
      "        \n",
      "        This is the smallest integer >= x.\n",
      "    \n",
      "    comb(n, k, /)\n",
      "        Number of ways to choose k items from n items without repetition and without order.\n",
      "        \n",
      "        Evaluates to n! / (k! * (n - k)!) when k <= n and evaluates\n",
      "        to zero when k > n.\n",
      "        \n",
      "        Also called the binomial coefficient because it is equivalent\n",
      "        to the coefficient of k-th term in polynomial expansion of the\n",
      "        expression (1 + x)**n.\n",
      "        \n",
      "        Raises TypeError if either of the arguments are not integers.\n",
      "        Raises ValueError if either of the arguments are negative.\n",
      "    \n",
      "    copysign(x, y, /)\n",
      "        Return a float with the magnitude (absolute value) of x but the sign of y.\n",
      "        \n",
      "        On platforms that support signed zeros, copysign(1.0, -0.0)\n",
      "        returns -1.0.\n",
      "    \n",
      "    cos(x, /)\n",
      "        Return the cosine of x (measured in radians).\n",
      "    \n",
      "    cosh(x, /)\n",
      "        Return the hyperbolic cosine of x.\n",
      "    \n",
      "    degrees(x, /)\n",
      "        Convert angle x from radians to degrees.\n",
      "    \n",
      "    dist(p, q, /)\n",
      "        Return the Euclidean distance between two points p and q.\n",
      "        \n",
      "        The points should be specified as sequences (or iterables) of\n",
      "        coordinates.  Both inputs must have the same dimension.\n",
      "        \n",
      "        Roughly equivalent to:\n",
      "            sqrt(sum((px - qx) ** 2.0 for px, qx in zip(p, q)))\n",
      "    \n",
      "    erf(x, /)\n",
      "        Error function at x.\n",
      "    \n",
      "    erfc(x, /)\n",
      "        Complementary error function at x.\n",
      "    \n",
      "    exp(x, /)\n",
      "        Return e raised to the power of x.\n",
      "    \n",
      "    exp2(x, /)\n",
      "        Return 2 raised to the power of x.\n",
      "    \n",
      "    expm1(x, /)\n",
      "        Return exp(x)-1.\n",
      "        \n",
      "        This function avoids the loss of precision involved in the direct evaluation of exp(x)-1 for small x.\n",
      "    \n",
      "    fabs(x, /)\n",
      "        Return the absolute value of the float x.\n",
      "    \n",
      "    factorial(n, /)\n",
      "        Find n!.\n",
      "        \n",
      "        Raise a ValueError if x is negative or non-integral.\n",
      "    \n",
      "    floor(x, /)\n",
      "        Return the floor of x as an Integral.\n",
      "        \n",
      "        This is the largest integer <= x.\n",
      "    \n",
      "    fmod(x, y, /)\n",
      "        Return fmod(x, y), according to platform C.\n",
      "        \n",
      "        x % y may differ.\n",
      "    \n",
      "    frexp(x, /)\n",
      "        Return the mantissa and exponent of x, as pair (m, e).\n",
      "        \n",
      "        m is a float and e is an int, such that x = m * 2.**e.\n",
      "        If x is 0, m and e are both 0.  Else 0.5 <= abs(m) < 1.0.\n",
      "    \n",
      "    fsum(seq, /)\n",
      "        Return an accurate floating point sum of values in the iterable seq.\n",
      "        \n",
      "        Assumes IEEE-754 floating point arithmetic.\n",
      "    \n",
      "    gamma(x, /)\n",
      "        Gamma function at x.\n",
      "    \n",
      "    gcd(*integers)\n",
      "        Greatest Common Divisor.\n",
      "    \n",
      "    hypot(...)\n",
      "        hypot(*coordinates) -> value\n",
      "        \n",
      "        Multidimensional Euclidean distance from the origin to a point.\n",
      "        \n",
      "        Roughly equivalent to:\n",
      "            sqrt(sum(x**2 for x in coordinates))\n",
      "        \n",
      "        For a two dimensional point (x, y), gives the hypotenuse\n",
      "        using the Pythagorean theorem:  sqrt(x*x + y*y).\n",
      "        \n",
      "        For example, the hypotenuse of a 3/4/5 right triangle is:\n",
      "        \n",
      "            >>> hypot(3.0, 4.0)\n",
      "            5.0\n",
      "    \n",
      "    isclose(a, b, *, rel_tol=1e-09, abs_tol=0.0)\n",
      "        Determine whether two floating point numbers are close in value.\n",
      "        \n",
      "          rel_tol\n",
      "            maximum difference for being considered \"close\", relative to the\n",
      "            magnitude of the input values\n",
      "          abs_tol\n",
      "            maximum difference for being considered \"close\", regardless of the\n",
      "            magnitude of the input values\n",
      "        \n",
      "        Return True if a is close in value to b, and False otherwise.\n",
      "        \n",
      "        For the values to be considered close, the difference between them\n",
      "        must be smaller than at least one of the tolerances.\n",
      "        \n",
      "        -inf, inf and NaN behave similarly to the IEEE 754 Standard.  That\n",
      "        is, NaN is not close to anything, even itself.  inf and -inf are\n",
      "        only close to themselves.\n",
      "    \n",
      "    isfinite(x, /)\n",
      "        Return True if x is neither an infinity nor a NaN, and False otherwise.\n",
      "    \n",
      "    isinf(x, /)\n",
      "        Return True if x is a positive or negative infinity, and False otherwise.\n",
      "    \n",
      "    isnan(x, /)\n",
      "        Return True if x is a NaN (not a number), and False otherwise.\n",
      "    \n",
      "    isqrt(n, /)\n",
      "        Return the integer part of the square root of the input.\n",
      "    \n",
      "    lcm(*integers)\n",
      "        Least Common Multiple.\n",
      "    \n",
      "    ldexp(x, i, /)\n",
      "        Return x * (2**i).\n",
      "        \n",
      "        This is essentially the inverse of frexp().\n",
      "    \n",
      "    lgamma(x, /)\n",
      "        Natural logarithm of absolute value of Gamma function at x.\n",
      "    \n",
      "    log(...)\n",
      "        log(x, [base=math.e])\n",
      "        Return the logarithm of x to the given base.\n",
      "        \n",
      "        If the base not specified, returns the natural logarithm (base e) of x.\n",
      "    \n",
      "    log10(x, /)\n",
      "        Return the base 10 logarithm of x.\n",
      "    \n",
      "    log1p(x, /)\n",
      "        Return the natural logarithm of 1+x (base e).\n",
      "        \n",
      "        The result is computed in a way which is accurate for x near zero.\n",
      "    \n",
      "    log2(x, /)\n",
      "        Return the base 2 logarithm of x.\n",
      "    \n",
      "    modf(x, /)\n",
      "        Return the fractional and integer parts of x.\n",
      "        \n",
      "        Both results carry the sign of x and are floats.\n",
      "    \n",
      "    nextafter(x, y, /)\n",
      "        Return the next floating-point value after x towards y.\n",
      "    \n",
      "    perm(n, k=None, /)\n",
      "        Number of ways to choose k items from n items without repetition and with order.\n",
      "        \n",
      "        Evaluates to n! / (n - k)! when k <= n and evaluates\n",
      "        to zero when k > n.\n",
      "        \n",
      "        If k is not specified or is None, then k defaults to n\n",
      "        and the function returns n!.\n",
      "        \n",
      "        Raises TypeError if either of the arguments are not integers.\n",
      "        Raises ValueError if either of the arguments are negative.\n",
      "    \n",
      "    pow(x, y, /)\n",
      "        Return x**y (x to the power of y).\n",
      "    \n",
      "    prod(iterable, /, *, start=1)\n",
      "        Calculate the product of all the elements in the input iterable.\n",
      "        \n",
      "        The default start value for the product is 1.\n",
      "        \n",
      "        When the iterable is empty, return the start value.  This function is\n",
      "        intended specifically for use with numeric values and may reject\n",
      "        non-numeric types.\n",
      "    \n",
      "    radians(x, /)\n",
      "        Convert angle x from degrees to radians.\n",
      "    \n",
      "    remainder(x, y, /)\n",
      "        Difference between x and the closest integer multiple of y.\n",
      "        \n",
      "        Return x - n*y where n*y is the closest integer multiple of y.\n",
      "        In the case where x is exactly halfway between two multiples of\n",
      "        y, the nearest even value of n is used. The result is always exact.\n",
      "    \n",
      "    sin(x, /)\n",
      "        Return the sine of x (measured in radians).\n",
      "    \n",
      "    sinh(x, /)\n",
      "        Return the hyperbolic sine of x.\n",
      "    \n",
      "    sqrt(x, /)\n",
      "        Return the square root of x.\n",
      "    \n",
      "    tan(x, /)\n",
      "        Return the tangent of x (measured in radians).\n",
      "    \n",
      "    tanh(x, /)\n",
      "        Return the hyperbolic tangent of x.\n",
      "    \n",
      "    trunc(x, /)\n",
      "        Truncates the Real x to the nearest Integral toward 0.\n",
      "        \n",
      "        Uses the __trunc__ magic method.\n",
      "    \n",
      "    ulp(x, /)\n",
      "        Return the value of the least significant bit of the float x.\n",
      "\n",
      "DATA\n",
      "    e = 2.718281828459045\n",
      "    inf = inf\n",
      "    nan = nan\n",
      "    pi = 3.141592653589793\n",
      "    tau = 6.283185307179586\n",
      "\n",
      "FILE\n",
      "    (built-in)\n",
      "\n",
      "\n"
     ]
    }
   ],
   "source": [
    "help(math)"
   ]
  },
  {
   "cell_type": "code",
   "execution_count": 108,
   "id": "cac213f5-1a74-471b-9b80-8dcc8ba114fe",
   "metadata": {},
   "outputs": [
    {
     "data": {
      "text/plain": [
       "10.0"
      ]
     },
     "execution_count": 108,
     "metadata": {},
     "output_type": "execute_result"
    }
   ],
   "source": [
    "math.sqrt(100)"
   ]
  },
  {
   "cell_type": "code",
   "execution_count": 109,
   "id": "3f4b0716-32b1-4763-ae3b-1219af127b98",
   "metadata": {},
   "outputs": [
    {
     "data": {
      "text/plain": [
       "-0.9880316240928618"
      ]
     },
     "execution_count": 109,
     "metadata": {},
     "output_type": "execute_result"
    }
   ],
   "source": [
    "math.sin(30)"
   ]
  },
  {
   "cell_type": "code",
   "execution_count": 110,
   "id": "77883eb7-98b6-48f1-9f2c-b967efacac3e",
   "metadata": {},
   "outputs": [
    {
     "data": {
      "text/plain": [
       "2.302585092994046"
      ]
     },
     "execution_count": 110,
     "metadata": {},
     "output_type": "execute_result"
    }
   ],
   "source": [
    "math.log(10)"
   ]
  },
  {
   "cell_type": "code",
   "execution_count": 111,
   "id": "2228d817-afaf-4071-93be-b5913376e330",
   "metadata": {},
   "outputs": [],
   "source": [
    "#read a redius and find area"
   ]
  },
  {
   "cell_type": "code",
   "execution_count": 112,
   "id": "3f54971c-21c8-41fc-828d-52ffeedae040",
   "metadata": {},
   "outputs": [
    {
     "name": "stdin",
     "output_type": "stream",
     "text": [
      "enter the result 5\n"
     ]
    },
    {
     "name": "stdout",
     "output_type": "stream",
     "text": [
      "area of circle is: 28.274333882308138\n"
     ]
    }
   ],
   "source": [
    "redius=float(input('enter the result'))\n",
    "print('area of circle is:',math.pi*r*r)"
   ]
  },
  {
   "cell_type": "code",
   "execution_count": 113,
   "id": "ba87724d-b78d-40f3-88a8-bce29ea70b02",
   "metadata": {},
   "outputs": [],
   "source": [
    "import time"
   ]
  },
  {
   "cell_type": "code",
   "execution_count": 114,
   "id": "41e57557-18f8-40b1-b22f-f735f102a526",
   "metadata": {},
   "outputs": [
    {
     "data": {
      "text/plain": [
       "'Mon Jun 10 12:12:02 2024'"
      ]
     },
     "execution_count": 114,
     "metadata": {},
     "output_type": "execute_result"
    }
   ],
   "source": [
    "time.asctime()\n"
   ]
  },
  {
   "cell_type": "code",
   "execution_count": 115,
   "id": "f3e7e2c7-b09e-45b5-9043-fad61a3cb6a2",
   "metadata": {},
   "outputs": [
    {
     "name": "stdout",
     "output_type": "stream",
     "text": [
      "hello\n",
      "ok\n"
     ]
    }
   ],
   "source": [
    "print('hello')\n",
    "time.sleep(5)\n",
    "print('ok')"
   ]
  },
  {
   "cell_type": "code",
   "execution_count": 117,
   "id": "2dcb29ed-3a40-4cd5-8687-45ff09159adf",
   "metadata": {},
   "outputs": [],
   "source": [
    "import math as m"
   ]
  },
  {
   "cell_type": "code",
   "execution_count": 118,
   "id": "d4fa97b9-a72f-4b4c-b53c-3a2b66830906",
   "metadata": {},
   "outputs": [
    {
     "data": {
      "text/plain": [
       "2.23606797749979"
      ]
     },
     "execution_count": 118,
     "metadata": {},
     "output_type": "execute_result"
    }
   ],
   "source": [
    "m.sqrt(5)"
   ]
  },
  {
   "cell_type": "code",
   "execution_count": 119,
   "id": "cd537e0e-99a7-47d1-a1c6-cfc87492bd21",
   "metadata": {},
   "outputs": [],
   "source": [
    "#selective import"
   ]
  },
  {
   "cell_type": "code",
   "execution_count": 120,
   "id": "4cb28ce6-cf04-42f8-8571-efdf35491dfe",
   "metadata": {},
   "outputs": [],
   "source": [
    "from math import sqrt,sin,pi"
   ]
  },
  {
   "cell_type": "code",
   "execution_count": 121,
   "id": "3d558fcd-090b-402f-944a-4ee653b82842",
   "metadata": {},
   "outputs": [
    {
     "data": {
      "text/plain": [
       "2.23606797749979"
      ]
     },
     "execution_count": 121,
     "metadata": {},
     "output_type": "execute_result"
    }
   ],
   "source": [
    "sqrt(5)"
   ]
  },
  {
   "cell_type": "code",
   "execution_count": 122,
   "id": "7beffe3f-7ba4-4b23-bc69-6a129dd09e9b",
   "metadata": {},
   "outputs": [
    {
     "data": {
      "text/plain": [
       "3.141592653589793"
      ]
     },
     "execution_count": 122,
     "metadata": {},
     "output_type": "execute_result"
    }
   ],
   "source": [
    "pi"
   ]
  },
  {
   "cell_type": "code",
   "execution_count": 4,
   "id": "1bcf53a0-776c-445f-ac64-30ad6e7f86a6",
   "metadata": {
    "scrolled": true
   },
   "outputs": [
    {
     "ename": "ModuleNotFoundError",
     "evalue": "No module named 'mode1'",
     "output_type": "error",
     "traceback": [
      "\u001b[1;31m---------------------------------------------------------------------------\u001b[0m",
      "\u001b[1;31mModuleNotFoundError\u001b[0m                       Traceback (most recent call last)",
      "Cell \u001b[1;32mIn[4], line 2\u001b[0m\n\u001b[0;32m      1\u001b[0m \u001b[38;5;66;03m#import user define module\u001b[39;00m\n\u001b[1;32m----> 2\u001b[0m \u001b[38;5;28;01mimport\u001b[39;00m \u001b[38;5;21;01mmode1\u001b[39;00m\n",
      "\u001b[1;31mModuleNotFoundError\u001b[0m: No module named 'mode1'"
     ]
    }
   ],
   "source": [
    "#import user define module\n",
    "import mode1"
   ]
  },
  {
   "cell_type": "code",
   "execution_count": 124,
   "id": "f45aa23e-4ea1-477c-b444-5ec3bbe7f7b1",
   "metadata": {},
   "outputs": [
    {
     "ename": "ModuleNotFoundError",
     "evalue": "No module named 'mode1'",
     "output_type": "error",
     "traceback": [
      "\u001b[1;31m---------------------------------------------------------------------------\u001b[0m",
      "\u001b[1;31mModuleNotFoundError\u001b[0m                       Traceback (most recent call last)",
      "Cell \u001b[1;32mIn[124], line 1\u001b[0m\n\u001b[1;32m----> 1\u001b[0m \u001b[38;5;28;01mimport\u001b[39;00m \u001b[38;5;21;01mmode1\u001b[39;00m \u001b[38;5;28;01mas\u001b[39;00m \u001b[38;5;21;01mm\u001b[39;00m\n",
      "\u001b[1;31mModuleNotFoundError\u001b[0m: No module named 'mode1'"
     ]
    }
   ],
   "source": [
    "import mode1 as m"
   ]
  },
  {
   "cell_type": "code",
   "execution_count": null,
   "id": "c6661400-3b03-4be2-b03b-0996013abf02",
   "metadata": {},
   "outputs": [],
   "source": []
  }
 ],
 "metadata": {
  "kernelspec": {
   "display_name": "Python 3 (ipykernel)",
   "language": "python",
   "name": "python3"
  },
  "language_info": {
   "codemirror_mode": {
    "name": "ipython",
    "version": 3
   },
   "file_extension": ".py",
   "mimetype": "text/x-python",
   "name": "python",
   "nbconvert_exporter": "python",
   "pygments_lexer": "ipython3",
   "version": "3.11.7"
  }
 },
 "nbformat": 4,
 "nbformat_minor": 5
}
