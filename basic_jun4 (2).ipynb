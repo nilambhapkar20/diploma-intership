{
 "cells": [
  {
   "cell_type": "code",
   "execution_count": 1,
   "id": "1d1774a6-d487-4abb-b7d5-e1157f98b782",
   "metadata": {},
   "outputs": [],
   "source": [
    "#check if a number is positive or negative"
   ]
  },
  {
   "cell_type": "markdown",
   "id": "d6f804c7-dd9c-4342-b796-5c7cb41e8a88",
   "metadata": {},
   "source": []
  },
  {
   "cell_type": "code",
   "execution_count": 16,
   "id": "ab5ea69c-5fb8-49cb-91d0-86395fb80846",
   "metadata": {},
   "outputs": [
    {
     "name": "stdin",
     "output_type": "stream",
     "text": [
      "enter the number -1\n"
     ]
    },
    {
     "name": "stdout",
     "output_type": "stream",
     "text": [
      "negative\n",
      "goodbye\n"
     ]
    }
   ],
   "source": [
    "num=int(input ('enter the number'))\n",
    "if num>0:print('positive') ;print('ok')\n",
    "else:print('negative') ;print('goodbye')"
   ]
  },
  {
   "cell_type": "code",
   "execution_count": 20,
   "id": "5eff5b27-ec1a-4bd3-8a87-428e256f66bf",
   "metadata": {},
   "outputs": [
    {
     "name": "stdin",
     "output_type": "stream",
     "text": [
      "enter the number 0\n"
     ]
    },
    {
     "name": "stdout",
     "output_type": "stream",
     "text": [
      "zero\n"
     ]
    }
   ],
   "source": [
    "num=int(input('enter the number'))\n",
    "if num>0:\n",
    "    print('positve')\n",
    "elif num==0:\n",
    "    print('zero')\n",
    "else:\n",
    "    print('negative')\n",
    "    "
   ]
  },
  {
   "cell_type": "code",
   "execution_count": 22,
   "id": "770b779a-a5e7-433a-a4dd-ab36bfe27854",
   "metadata": {},
   "outputs": [],
   "source": [
    "#even odd "
   ]
  },
  {
   "cell_type": "code",
   "execution_count": 30,
   "id": "4f259927-6244-4ea8-a45f-2e388aeb3341",
   "metadata": {},
   "outputs": [
    {
     "name": "stdin",
     "output_type": "stream",
     "text": [
      "enter the number 7\n"
     ]
    },
    {
     "name": "stdout",
     "output_type": "stream",
     "text": [
      "odd\n"
     ]
    }
   ],
   "source": [
    "num=int(input('enter the number'))\n",
    "if num%2==0:print('even')\n",
    "else:print('odd')\n"
   ]
  },
  {
   "cell_type": "code",
   "execution_count": 32,
   "id": "d6496561-d6a4-4d9c-a428-26e0b4b5641b",
   "metadata": {},
   "outputs": [
    {
     "name": "stdout",
     "output_type": "stream",
     "text": [
      "ok\n"
     ]
    }
   ],
   "source": [
    "a=56\n",
    "if a:\n",
    "    print('ok')"
   ]
  },
  {
   "cell_type": "code",
   "execution_count": 33,
   "id": "3d86aa97-8de8-4a0e-91c6-37f459ed119c",
   "metadata": {},
   "outputs": [],
   "source": [
    "#check if the number is in between 50 and 150"
   ]
  },
  {
   "cell_type": "code",
   "execution_count": 36,
   "id": "065bec70-fb80-41d5-9907-68d20b904b12",
   "metadata": {},
   "outputs": [
    {
     "name": "stdin",
     "output_type": "stream",
     "text": [
      "enter the number 157\n"
     ]
    },
    {
     "name": "stdout",
     "output_type": "stream",
     "text": [
      "greter than 150\n"
     ]
    }
   ],
   "source": [
    "num=int(input('enter the number'))\n",
    "if num>50:\n",
    "    if num<150:\n",
    "        print('correct')\n",
    "    else:\n",
    "        print('greter than 150')\n",
    "else:\n",
    "    print('not correct')"
   ]
  },
  {
   "cell_type": "code",
   "execution_count": 38,
   "id": "ad0b4e45-dfd6-4090-a118-0d59d480ef26",
   "metadata": {},
   "outputs": [
    {
     "name": "stdin",
     "output_type": "stream",
     "text": [
      "enter the number 34\n"
     ]
    },
    {
     "name": "stdout",
     "output_type": "stream",
     "text": [
      "incorrect\n"
     ]
    }
   ],
   "source": [
    "num=int(input('enter the number'))\n",
    "if num>50 and num<150:print('correct')\n",
    "else:print('incorrect')"
   ]
  },
  {
   "cell_type": "code",
   "execution_count": 39,
   "id": "c75dbada-b855-447e-a25e-11104bb459c4",
   "metadata": {},
   "outputs": [],
   "source": [
    "#read the purches cost and selling cost state profit or loss and how much"
   ]
  },
  {
   "cell_type": "code",
   "execution_count": 46,
   "id": "498e247f-e5ef-465e-b39d-cc577130fcf2",
   "metadata": {},
   "outputs": [
    {
     "name": "stdin",
     "output_type": "stream",
     "text": [
      "enter the per_cost 56\n",
      "enter the number 45\n"
     ]
    },
    {
     "name": "stdout",
     "output_type": "stream",
     "text": [
      "loss: 11\n"
     ]
    }
   ],
   "source": [
    "per_cost =int(input('enter the per_cost'))\n",
    "sel_cost=int(input('enter the number'))\n",
    "if sel_cost>per_cost:print('profit:',sel_cost-per_cost)\n",
    "else: print('loss:',per_cost-sel_cost)\n"
   ]
  },
  {
   "cell_type": "code",
   "execution_count": 47,
   "id": "a6d7b543-5410-4e44-94f5-8e5715fd4132",
   "metadata": {},
   "outputs": [],
   "source": [
    "#take 3 number find the largest of them not allowed to use 'and' or 'or'"
   ]
  },
  {
   "cell_type": "code",
   "execution_count": null,
   "id": "1d6ded69-9cba-48db-982f-935f97594fe6",
   "metadata": {},
   "outputs": [],
   "source": []
  },
  {
   "cell_type": "code",
   "execution_count": null,
   "id": "0eacda5c-81a5-47a6-af92-794ac5c78f5d",
   "metadata": {},
   "outputs": [],
   "source": []
  },
  {
   "cell_type": "code",
   "execution_count": 94,
   "id": "6d28f01d-700a-41f3-93b4-4b236e649850",
   "metadata": {},
   "outputs": [
    {
     "name": "stdin",
     "output_type": "stream",
     "text": [
      "enter the number1 45\n",
      "enter the number2 7\n",
      "enter the number3 8\n"
     ]
    },
    {
     "name": "stdout",
     "output_type": "stream",
     "text": [
      "num1 is greater\n"
     ]
    }
   ],
   "source": [
    "num1=int(input('enter the number1'))\n",
    "num2=int(input('enter the number2'))\n",
    "num3=int(input('enter the number3'))\n",
    "if num1>num2:\n",
    "    if num1>num3:\n",
    "        print('num1 is greater')\n",
    "    else: \n",
    "        print('num3 is greater')\n",
    "else:\n",
    "      if num2>num3:\n",
    "        print('num2 is greater')\n"
   ]
  },
  {
   "cell_type": "code",
   "execution_count": 95,
   "id": "c3b25fd1-73dd-488c-994b-41866bed0a4a",
   "metadata": {},
   "outputs": [],
   "source": [
    "#write a program to find if an year is a leap or not "
   ]
  },
  {
   "cell_type": "code",
   "execution_count": 104,
   "id": "209beb7e-3e87-4750-9e4c-26dd574fbf05",
   "metadata": {},
   "outputs": [
    {
     "name": "stdin",
     "output_type": "stream",
     "text": [
      "enter the number 1800\n"
     ]
    },
    {
     "name": "stdout",
     "output_type": "stream",
     "text": [
      "century year but not leap\n"
     ]
    }
   ],
   "source": [
    "year=int(input('enter the number'))\n",
    "if year%4==0:\n",
    "   if year%100==0:\n",
    "      if year%400==0:\n",
    "       print('leap century year')\n",
    "      else:\n",
    "       print('century year but not leap')\n",
    "   else:\n",
    "    print('leap year')\n",
    "else:\n",
    " print('not leap year')\n"
   ]
  },
  {
   "cell_type": "code",
   "execution_count": 109,
   "id": "0dcb60f9-0f90-4f6b-a017-f8a7fb9ecab4",
   "metadata": {},
   "outputs": [
    {
     "name": "stdin",
     "output_type": "stream",
     "text": [
      "enter the marks 25\n"
     ]
    },
    {
     "name": "stdout",
     "output_type": "stream",
     "text": [
      "fail\n"
     ]
    }
   ],
   "source": [
    "marks=int(input('enter the marks'))\n",
    "if marks>60:\n",
    "    print('first class')\n",
    "elif marks>=50:\n",
    "    print('second class')\n",
    "elif marks>=40:\n",
    "    print('third class')\n",
    "elif marks>=35:\n",
    "    print('pass')\n",
    "else:\n",
    "    print('fail')"
   ]
  },
  {
   "cell_type": "code",
   "execution_count": 111,
   "id": "e17cd960-27b3-4b70-81c6-4760726e19f8",
   "metadata": {},
   "outputs": [],
   "source": [
    "#menu driven  based on the choice if will do sequre cube or cheak +ve ,-ve"
   ]
  },
  {
   "cell_type": "code",
   "execution_count": 118,
   "id": "26db2c9e-b467-4848-8a64-0c6fe796d8ac",
   "metadata": {},
   "outputs": [
    {
     "name": "stdin",
     "output_type": "stream",
     "text": [
      "enter the number 2\n"
     ]
    },
    {
     "name": "stdout",
     "output_type": "stream",
     "text": [
      "menu:\n",
      "1.square\n",
      "2.cube\n",
      "3.cheak positive or negative\n"
     ]
    },
    {
     "name": "stdin",
     "output_type": "stream",
     "text": [
      "enter your choice 2\n"
     ]
    },
    {
     "name": "stdout",
     "output_type": "stream",
     "text": [
      "cube is: 8\n"
     ]
    }
   ],
   "source": [
    "num=int(input('enter the number'))\n",
    "print('menu:\\n1.square\\n2.cube\\n3.cheak positive or negative')\n",
    "choice=int(input('enter your choice'))\n",
    "if choice==1:\n",
    "    print('square is:',num*num)\n",
    "elif choice==2:\n",
    "    print('cube is:',num**3)\n",
    "elif choice==3:\n",
    "    if num>0:\n",
    "        print('positive')\n",
    "    else:\n",
    "        print('you must forgotten ur sspects or brain')"
   ]
  },
  {
   "cell_type": "code",
   "execution_count": null,
   "id": "8561b04d-e4ac-4fed-b4d4-dfd315baf1c0",
   "metadata": {},
   "outputs": [],
   "source": []
  },
  {
   "cell_type": "code",
   "execution_count": null,
   "id": "a57daa57-ca25-43ad-95b9-f94511d245a7",
   "metadata": {},
   "outputs": [],
   "source": []
  },
  {
   "cell_type": "code",
   "execution_count": null,
   "id": "c4672bb8-bbed-4f37-9632-0cdb6c8c0588",
   "metadata": {},
   "outputs": [],
   "source": []
  },
  {
   "cell_type": "code",
   "execution_count": null,
   "id": "648c99c2-e0c0-435c-8464-19cc9a49cd0b",
   "metadata": {},
   "outputs": [],
   "source": []
  }
 ],
 "metadata": {
  "kernelspec": {
   "display_name": "Python 3 (ipykernel)",
   "language": "python",
   "name": "python3"
  },
  "language_info": {
   "codemirror_mode": {
    "name": "ipython",
    "version": 3
   },
   "file_extension": ".py",
   "mimetype": "text/x-python",
   "name": "python",
   "nbconvert_exporter": "python",
   "pygments_lexer": "ipython3",
   "version": "3.11.7"
  }
 },
 "nbformat": 4,
 "nbformat_minor": 5
}
