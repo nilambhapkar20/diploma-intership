{
 "cells": [
  {
   "cell_type": "code",
   "execution_count": 1,
   "id": "14aad001-7bd3-4003-84f2-7bebe5cefd3f",
   "metadata": {},
   "outputs": [],
   "source": [
    "import pandas as pd"
   ]
  },
  {
   "cell_type": "code",
   "execution_count": 13,
   "id": "aabce680-c0c9-44de-b6fd-46b50d645255",
   "metadata": {},
   "outputs": [],
   "source": [
    "actual=['c','c','nc','c','nc','nc','c','nc','nc']\n",
    "predicate=['c','nc','nc','c','c','nc','nc','c','nc']"
   ]
  },
  {
   "cell_type": "code",
   "execution_count": 15,
   "id": "7036c92e-de50-4cab-bd92-66d9ab6f90e8",
   "metadata": {},
   "outputs": [],
   "source": [
    "#for cat"
   ]
  },
  {
   "cell_type": "code",
   "execution_count": 7,
   "id": "a25c9cd3-cb76-4189-8696-1172b7f012b6",
   "metadata": {},
   "outputs": [],
   "source": [
    "tp=2  #pred cat actual cat"
   ]
  },
  {
   "cell_type": "code",
   "execution_count": 9,
   "id": "437ff1c1-f909-4cb8-9951-a07b41f9a071",
   "metadata": {},
   "outputs": [],
   "source": [
    "fp=2 #pred cat actual not cat"
   ]
  },
  {
   "cell_type": "code",
   "execution_count": 11,
   "id": "e46bb746-969c-4927-90fe-b759432ae041",
   "metadata": {},
   "outputs": [],
   "source": [
    "fn=2  #pred not cat actual cat"
   ]
  },
  {
   "cell_type": "code",
   "execution_count": 17,
   "id": "bffa29a6-9967-4379-ad82-174462017d34",
   "metadata": {},
   "outputs": [],
   "source": [
    "tn=3  #pred not cat actual not cat"
   ]
  },
  {
   "cell_type": "code",
   "execution_count": 19,
   "id": "56995e4b-b14c-466d-8850-66d9095be8d8",
   "metadata": {},
   "outputs": [],
   "source": [
    "#precision"
   ]
  },
  {
   "cell_type": "code",
   "execution_count": 23,
   "id": "b68d2d3c-a1cb-4744-914f-8fd846500905",
   "metadata": {},
   "outputs": [
    {
     "data": {
      "text/plain": [
       "0.5"
      ]
     },
     "execution_count": 23,
     "metadata": {},
     "output_type": "execute_result"
    }
   ],
   "source": [
    "precision=2/4\n",
    "precision"
   ]
  },
  {
   "cell_type": "code",
   "execution_count": 25,
   "id": "e7e0bd18-91f5-4ebf-9716-470367fc91e6",
   "metadata": {},
   "outputs": [],
   "source": [
    "#recall\n",
    "recall=2/4"
   ]
  },
  {
   "cell_type": "code",
   "execution_count": 27,
   "id": "a0704cd8-1ab5-4add-8630-4d245511c55f",
   "metadata": {},
   "outputs": [
    {
     "data": {
      "text/plain": [
       "0.5"
      ]
     },
     "execution_count": 27,
     "metadata": {},
     "output_type": "execute_result"
    }
   ],
   "source": [
    "recall"
   ]
  },
  {
   "cell_type": "code",
   "execution_count": 29,
   "id": "a9fd17d5-7a52-4949-919e-e4ebe50ed3f6",
   "metadata": {},
   "outputs": [],
   "source": [
    "#f1-score\n",
    "\n",
    "#harmonic mean between precision and recall"
   ]
  },
  {
   "cell_type": "code",
   "execution_count": 33,
   "id": "1ed98c38-3160-4e2a-9950-ac08c7647f28",
   "metadata": {},
   "outputs": [
    {
     "data": {
      "text/plain": [
       "0.5"
      ]
     },
     "execution_count": 33,
     "metadata": {},
     "output_type": "execute_result"
    }
   ],
   "source": [
    "(2*precision *recall)/(precision+recall)"
   ]
  },
  {
   "cell_type": "code",
   "execution_count": null,
   "id": "d72fce4f-b02f-45a0-b99f-5a01a28a51a5",
   "metadata": {},
   "outputs": [],
   "source": []
  }
 ],
 "metadata": {
  "kernelspec": {
   "display_name": "Python 3 (ipykernel)",
   "language": "python",
   "name": "python3"
  },
  "language_info": {
   "codemirror_mode": {
    "name": "ipython",
    "version": 3
   },
   "file_extension": ".py",
   "mimetype": "text/x-python",
   "name": "python",
   "nbconvert_exporter": "python",
   "pygments_lexer": "ipython3",
   "version": "3.11.7"
  }
 },
 "nbformat": 4,
 "nbformat_minor": 5
}
