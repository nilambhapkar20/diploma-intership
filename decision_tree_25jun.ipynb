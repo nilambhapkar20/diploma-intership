{
 "cells": [
  {
   "cell_type": "code",
   "execution_count": 8,
   "id": "794cf7c6-bbb9-4de3-9fc4-f1ae04f8cada",
   "metadata": {},
   "outputs": [],
   "source": [
    "# dataset: Movies.csv\n",
    "# location https://mitu.co.in/dataset\n",
    "\n",
    "import pandas as pd\n",
    "import numpy as np\n",
    "import matplotlib.pyplot as plt\n",
    "import seaborn as sns"
   ]
  },
  {
   "cell_type": "code",
   "execution_count": 10,
   "id": "71f1fa5c-cc65-49f4-9bd7-b5807a103acf",
   "metadata": {},
   "outputs": [],
   "source": [
    "df=pd.read_csv('movies.csv')"
   ]
  },
  {
   "cell_type": "code",
   "execution_count": 12,
   "id": "b388e58b-149c-408a-802f-10c9dcf09b15",
   "metadata": {},
   "outputs": [
    {
     "data": {
      "text/html": [
       "<div>\n",
       "<style scoped>\n",
       "    .dataframe tbody tr th:only-of-type {\n",
       "        vertical-align: middle;\n",
       "    }\n",
       "\n",
       "    .dataframe tbody tr th {\n",
       "        vertical-align: top;\n",
       "    }\n",
       "\n",
       "    .dataframe thead th {\n",
       "        text-align: right;\n",
       "    }\n",
       "</style>\n",
       "<table border=\"1\" class=\"dataframe\">\n",
       "  <thead>\n",
       "    <tr style=\"text-align: right;\">\n",
       "      <th></th>\n",
       "      <th>Movie</th>\n",
       "      <th>Budget</th>\n",
       "      <th>Celebrities</th>\n",
       "      <th>Class</th>\n",
       "    </tr>\n",
       "  </thead>\n",
       "  <tbody>\n",
       "    <tr>\n",
       "      <th>0</th>\n",
       "      <td>The 400 Blows</td>\n",
       "      <td>100000000</td>\n",
       "      <td>2.0</td>\n",
       "      <td>Box Office Burst</td>\n",
       "    </tr>\n",
       "    <tr>\n",
       "      <th>1</th>\n",
       "      <td>La Haine</td>\n",
       "      <td>210000000</td>\n",
       "      <td>3.0</td>\n",
       "      <td>Box Office Burst</td>\n",
       "    </tr>\n",
       "    <tr>\n",
       "      <th>2</th>\n",
       "      <td>The Godfather</td>\n",
       "      <td>250000000</td>\n",
       "      <td>4.0</td>\n",
       "      <td>Box Office Burst</td>\n",
       "    </tr>\n",
       "    <tr>\n",
       "      <th>3</th>\n",
       "      <td>The Godfather: Part II</td>\n",
       "      <td>350000000</td>\n",
       "      <td>2.0</td>\n",
       "      <td>Box Office Burst</td>\n",
       "    </tr>\n",
       "    <tr>\n",
       "      <th>4</th>\n",
       "      <td>Man Bites Dog</td>\n",
       "      <td>400600000</td>\n",
       "      <td>4.0</td>\n",
       "      <td>Box Office Burst</td>\n",
       "    </tr>\n",
       "    <tr>\n",
       "      <th>5</th>\n",
       "      <td>The Departed</td>\n",
       "      <td>500000000</td>\n",
       "      <td>2.0</td>\n",
       "      <td>Box Office Burst</td>\n",
       "    </tr>\n",
       "    <tr>\n",
       "      <th>6</th>\n",
       "      <td>Umberto D.</td>\n",
       "      <td>550000000</td>\n",
       "      <td>5.0</td>\n",
       "      <td>Box Office Burst</td>\n",
       "    </tr>\n",
       "    <tr>\n",
       "      <th>7</th>\n",
       "      <td>White Heat</td>\n",
       "      <td>610450000</td>\n",
       "      <td>4.0</td>\n",
       "      <td>Box Office Burst</td>\n",
       "    </tr>\n",
       "    <tr>\n",
       "      <th>8</th>\n",
       "      <td>Eddie Murphy: Raw</td>\n",
       "      <td>650000000</td>\n",
       "      <td>3.0</td>\n",
       "      <td>Box Office Burst</td>\n",
       "    </tr>\n",
       "    <tr>\n",
       "      <th>9</th>\n",
       "      <td>All Quiet on the Western Front</td>\n",
       "      <td>1000000000</td>\n",
       "      <td>5.0</td>\n",
       "      <td>Box Office Burst</td>\n",
       "    </tr>\n",
       "    <tr>\n",
       "      <th>10</th>\n",
       "      <td>Duck Soup</td>\n",
       "      <td>100000000</td>\n",
       "      <td>5.5</td>\n",
       "      <td>Critical Success</td>\n",
       "    </tr>\n",
       "    <tr>\n",
       "      <th>11</th>\n",
       "      <td>Mafioso</td>\n",
       "      <td>80230000</td>\n",
       "      <td>7.0</td>\n",
       "      <td>Critical Success</td>\n",
       "    </tr>\n",
       "    <tr>\n",
       "      <th>12</th>\n",
       "      <td>Stalag 17</td>\n",
       "      <td>150000000</td>\n",
       "      <td>6.0</td>\n",
       "      <td>Critical Success</td>\n",
       "    </tr>\n",
       "    <tr>\n",
       "      <th>13</th>\n",
       "      <td>The Shawshank Redemption</td>\n",
       "      <td>130000000</td>\n",
       "      <td>8.0</td>\n",
       "      <td>Critical Success</td>\n",
       "    </tr>\n",
       "    <tr>\n",
       "      <th>14</th>\n",
       "      <td>The Dark Knight</td>\n",
       "      <td>250000000</td>\n",
       "      <td>10.0</td>\n",
       "      <td>Critical Success</td>\n",
       "    </tr>\n",
       "    <tr>\n",
       "      <th>15</th>\n",
       "      <td>Fight Club</td>\n",
       "      <td>284000000</td>\n",
       "      <td>9.0</td>\n",
       "      <td>Critical Success</td>\n",
       "    </tr>\n",
       "    <tr>\n",
       "      <th>16</th>\n",
       "      <td>Batman Begins</td>\n",
       "      <td>348000000</td>\n",
       "      <td>7.0</td>\n",
       "      <td>Critical Success</td>\n",
       "    </tr>\n",
       "    <tr>\n",
       "      <th>17</th>\n",
       "      <td>The Big Lebowski</td>\n",
       "      <td>452000000</td>\n",
       "      <td>10.0</td>\n",
       "      <td>Critical Success</td>\n",
       "    </tr>\n",
       "    <tr>\n",
       "      <th>18</th>\n",
       "      <td>Snatch</td>\n",
       "      <td>585000000</td>\n",
       "      <td>9.0</td>\n",
       "      <td>Critical Success</td>\n",
       "    </tr>\n",
       "    <tr>\n",
       "      <th>19</th>\n",
       "      <td>The Good, the Bad and the Ugly</td>\n",
       "      <td>712000000</td>\n",
       "      <td>10.0</td>\n",
       "      <td>Critical Success</td>\n",
       "    </tr>\n",
       "    <tr>\n",
       "      <th>20</th>\n",
       "      <td>Gladiator</td>\n",
       "      <td>887000000</td>\n",
       "      <td>5.5</td>\n",
       "      <td>Mainstream Hit</td>\n",
       "    </tr>\n",
       "    <tr>\n",
       "      <th>21</th>\n",
       "      <td>Saving Private Ryan</td>\n",
       "      <td>814500000</td>\n",
       "      <td>4.0</td>\n",
       "      <td>Mainstream Hit</td>\n",
       "    </tr>\n",
       "    <tr>\n",
       "      <th>22</th>\n",
       "      <td>Amélie</td>\n",
       "      <td>894500000</td>\n",
       "      <td>4.0</td>\n",
       "      <td>Mainstream Hit</td>\n",
       "    </tr>\n",
       "    <tr>\n",
       "      <th>23</th>\n",
       "      <td>American History X</td>\n",
       "      <td>1100000000</td>\n",
       "      <td>7.0</td>\n",
       "      <td>Mainstream Hit</td>\n",
       "    </tr>\n",
       "    <tr>\n",
       "      <th>24</th>\n",
       "      <td>In Bruges</td>\n",
       "      <td>795600000</td>\n",
       "      <td>8.0</td>\n",
       "      <td>Mainstream Hit</td>\n",
       "    </tr>\n",
       "    <tr>\n",
       "      <th>25</th>\n",
       "      <td>Crash (I)</td>\n",
       "      <td>912000000</td>\n",
       "      <td>7.0</td>\n",
       "      <td>Mainstream Hit</td>\n",
       "    </tr>\n",
       "    <tr>\n",
       "      <th>26</th>\n",
       "      <td>Big Fish</td>\n",
       "      <td>869000000</td>\n",
       "      <td>9.0</td>\n",
       "      <td>Mainstream Hit</td>\n",
       "    </tr>\n",
       "    <tr>\n",
       "      <th>27</th>\n",
       "      <td>Seven Samurai</td>\n",
       "      <td>1010500000</td>\n",
       "      <td>9.0</td>\n",
       "      <td>Mainstream Hit</td>\n",
       "    </tr>\n",
       "    <tr>\n",
       "      <th>28</th>\n",
       "      <td>Layer Cake</td>\n",
       "      <td>978000000</td>\n",
       "      <td>10.0</td>\n",
       "      <td>Mainstream Hit</td>\n",
       "    </tr>\n",
       "    <tr>\n",
       "      <th>29</th>\n",
       "      <td>Coming to America</td>\n",
       "      <td>894500000</td>\n",
       "      <td>11.0</td>\n",
       "      <td>Mainstream Hit</td>\n",
       "    </tr>\n",
       "  </tbody>\n",
       "</table>\n",
       "</div>"
      ],
      "text/plain": [
       "                              Movie      Budget  Celebrities             Class\n",
       "0                     The 400 Blows   100000000          2.0  Box Office Burst\n",
       "1                         La Haine    210000000          3.0  Box Office Burst\n",
       "2                     The Godfather   250000000          4.0  Box Office Burst\n",
       "3           The Godfather: Part II    350000000          2.0  Box Office Burst\n",
       "4                    Man Bites Dog    400600000          4.0  Box Office Burst\n",
       "5                      The Departed   500000000          2.0  Box Office Burst\n",
       "6                       Umberto D.    550000000          5.0  Box Office Burst\n",
       "7                        White Heat   610450000          4.0  Box Office Burst\n",
       "8                 Eddie Murphy: Raw   650000000          3.0  Box Office Burst\n",
       "9    All Quiet on the Western Front  1000000000          5.0  Box Office Burst\n",
       "10                        Duck Soup   100000000          5.5  Critical Success\n",
       "11                          Mafioso    80230000          7.0  Critical Success\n",
       "12                        Stalag 17   150000000          6.0  Critical Success\n",
       "13         The Shawshank Redemption   130000000          8.0  Critical Success\n",
       "14                  The Dark Knight   250000000         10.0  Critical Success\n",
       "15                      Fight Club    284000000          9.0  Critical Success\n",
       "16                    Batman Begins   348000000          7.0  Critical Success\n",
       "17                 The Big Lebowski   452000000         10.0  Critical Success\n",
       "18                           Snatch   585000000          9.0  Critical Success\n",
       "19  The Good, the Bad and the Ugly    712000000         10.0  Critical Success\n",
       "20                       Gladiator    887000000          5.5    Mainstream Hit\n",
       "21              Saving Private Ryan   814500000          4.0    Mainstream Hit\n",
       "22                          Amélie    894500000          4.0    Mainstream Hit\n",
       "23              American History X   1100000000          7.0    Mainstream Hit\n",
       "24                       In Bruges    795600000          8.0    Mainstream Hit\n",
       "25                        Crash (I)   912000000          7.0    Mainstream Hit\n",
       "26                         Big Fish   869000000          9.0    Mainstream Hit\n",
       "27                    Seven Samurai  1010500000          9.0    Mainstream Hit\n",
       "28                       Layer Cake   978000000         10.0    Mainstream Hit\n",
       "29                Coming to America   894500000         11.0    Mainstream Hit"
      ]
     },
     "execution_count": 12,
     "metadata": {},
     "output_type": "execute_result"
    }
   ],
   "source": [
    "df"
   ]
  },
  {
   "cell_type": "code",
   "execution_count": 14,
   "id": "829996d1-b4de-40ed-addc-b4af71452b47",
   "metadata": {},
   "outputs": [],
   "source": [
    "import warnings\n",
    "warnings.filterwarnings('ignore')"
   ]
  },
  {
   "cell_type": "code",
   "execution_count": 16,
   "id": "11a6d044-009e-475b-a16a-f91f09defbc8",
   "metadata": {},
   "outputs": [
    {
     "data": {
      "image/png": "[encoded data removed]",
      "text/plain": [
       "<Figure size 640x480 with 1 Axes>"
      ]
     },
     "metadata": {},
     "output_type": "display_data"
    }
   ],
   "source": [
    "sns.scatterplot(x = 'Budget', y = 'Celebrities', data = df,\n",
    "                hue = 'Class');"
   ]
  },
  {
   "cell_type": "code",
   "execution_count": 18,
   "id": "3d98c9df-4a37-432a-a989-7def7072e0da",
   "metadata": {},
   "outputs": [],
   "source": [
    "# Decision"
   ]
  },
  {
   "cell_type": "code",
   "execution_count": 20,
   "id": "0d0a5363-fbf5-4c98-912a-a45ef776e76e",
   "metadata": {},
   "outputs": [],
   "source": [
    "# separate input and output\n",
    "\n",
    "x = df[['Budget', 'Celebrities']]\n",
    "\n",
    "y = df['Class']"
   ]
  },
  {
   "cell_type": "code",
   "execution_count": 22,
   "id": "5d8466fd-82a1-4b96-bcea-39994dcda4c8",
   "metadata": {},
   "outputs": [],
   "source": [
    "from sklearn.tree import DecisionTreeClassifier"
   ]
  },
  {
   "cell_type": "code",
   "execution_count": 24,
   "id": "263e290f-6df1-4191-8cfe-097e17855dd0",
   "metadata": {},
   "outputs": [],
   "source": [
    "dt = DecisionTreeClassifier(random_state= 0)"
   ]
  },
  {
   "cell_type": "code",
   "execution_count": 26,
   "id": "c0f72a7c-28fa-4061-abf5-a81e8e3d999a",
   "metadata": {},
   "outputs": [
    {
     "data": {
      "text/html": [
       "<style>#sk-container-id-1 {color: black;background-color: white;}#sk-container-id-1 pre{padding: 0;}#sk-container-id-1 div.sk-toggleable {background-color: white;}#sk-container-id-1 label.sk-toggleable__label {cursor: pointer;display: block;width: 100%;margin-bottom: 0;padding: 0.3em;box-sizing: border-box;text-align: center;}#sk-container-id-1 label.sk-toggleable__label-arrow:before {content: \"▸\";float: left;margin-right: 0.25em;color: #696969;}#sk-container-id-1 label.sk-toggleable__label-arrow:hover:before {color: black;}#sk-container-id-1 div.sk-estimator:hover label.sk-toggleable__label-arrow:before {color: black;}#sk-container-id-1 div.sk-toggleable__content {max-height: 0;max-width: 0;overflow: hidden;text-align: left;background-color: #f0f8ff;}#sk-container-id-1 div.sk-toggleable__content pre {margin: 0.2em;color: black;border-radius: 0.25em;background-color: #f0f8ff;}#sk-container-id-1 input.sk-toggleable__control:checked~div.sk-toggleable__content {max-height: 200px;max-width: 100%;overflow: auto;}#sk-container-id-1 input.sk-toggleable__control:checked~label.sk-toggleable__label-arrow:before {content: \"▾\";}#sk-container-id-1 div.sk-estimator input.sk-toggleable__control:checked~label.sk-toggleable__label {background-color: #d4ebff;}#sk-container-id-1 div.sk-label input.sk-toggleable__control:checked~label.sk-toggleable__label {background-color: #d4ebff;}#sk-container-id-1 input.sk-hidden--visually {border: 0;clip: rect(1px 1px 1px 1px);clip: rect(1px, 1px, 1px, 1px);height: 1px;margin: -1px;overflow: hidden;padding: 0;position: absolute;width: 1px;}#sk-container-id-1 div.sk-estimator {font-family: monospace;background-color: #f0f8ff;border: 1px dotted black;border-radius: 0.25em;box-sizing: border-box;margin-bottom: 0.5em;}#sk-container-id-1 div.sk-estimator:hover {background-color: #d4ebff;}#sk-container-id-1 div.sk-parallel-item::after {content: \"\";width: 100%;border-bottom: 1px solid gray;flex-grow: 1;}#sk-container-id-1 div.sk-label:hover label.sk-toggleable__label {background-color: #d4ebff;}#sk-container-id-1 div.sk-serial::before {content: \"\";position: absolute;border-left: 1px solid gray;box-sizing: border-box;top: 0;bottom: 0;left: 50%;z-index: 0;}#sk-container-id-1 div.sk-serial {display: flex;flex-direction: column;align-items: center;background-color: white;padding-right: 0.2em;padding-left: 0.2em;position: relative;}#sk-container-id-1 div.sk-item {position: relative;z-index: 1;}#sk-container-id-1 div.sk-parallel {display: flex;align-items: stretch;justify-content: center;background-color: white;position: relative;}#sk-container-id-1 div.sk-item::before, #sk-container-id-1 div.sk-parallel-item::before {content: \"\";position: absolute;border-left: 1px solid gray;box-sizing: border-box;top: 0;bottom: 0;left: 50%;z-index: -1;}#sk-container-id-1 div.sk-parallel-item {display: flex;flex-direction: column;z-index: 1;position: relative;background-color: white;}#sk-container-id-1 div.sk-parallel-item:first-child::after {align-self: flex-end;width: 50%;}#sk-container-id-1 div.sk-parallel-item:last-child::after {align-self: flex-start;width: 50%;}#sk-container-id-1 div.sk-parallel-item:only-child::after {width: 0;}#sk-container-id-1 div.sk-dashed-wrapped {border: 1px dashed gray;margin: 0 0.4em 0.5em 0.4em;box-sizing: border-box;padding-bottom: 0.4em;background-color: white;}#sk-container-id-1 div.sk-label label {font-family: monospace;font-weight: bold;display: inline-block;line-height: 1.2em;}#sk-container-id-1 div.sk-label-container {text-align: center;}#sk-container-id-1 div.sk-container {/* jupyter's `normalize.less` sets `[hidden] { display: none; }` but bootstrap.min.css set `[hidden] { display: none !important; }` so we also need the `!important` here to be able to override the default hidden behavior on the sphinx rendered scikit-learn.org. See: https://github.com/scikit-learn/scikit-learn/issues/21755 */display: inline-block !important;position: relative;}#sk-container-id-1 div.sk-text-repr-fallback {display: none;}</style><div id=\"sk-container-id-1\" class=\"sk-top-container\"><div class=\"sk-text-repr-fallback\"><pre>DecisionTreeClassifier(random_state=0)</pre><b>In a Jupyter environment, please rerun this cell to show the HTML representation or trust the notebook. <br />On GitHub, the HTML representation is unable to render, please try loading this page with nbviewer.org.</b></div><div class=\"sk-container\" hidden><div class=\"sk-item\"><div class=\"sk-estimator sk-toggleable\"><input class=\"sk-toggleable__control sk-hidden--visually\" id=\"sk-estimator-id-1\" type=\"checkbox\" checked><label for=\"sk-estimator-id-1\" class=\"sk-toggleable__label sk-toggleable__label-arrow\">DecisionTreeClassifier</label><div class=\"sk-toggleable__content\"><pre>DecisionTreeClassifier(random_state=0)</pre></div></div></div></div></div>"
      ],
      "text/plain": [
       "DecisionTreeClassifier(random_state=0)"
      ]
     },
     "execution_count": 26,
     "metadata": {},
     "output_type": "execute_result"
    }
   ],
   "source": [
    "dt.fit(x, y)"
   ]
  },
  {
   "cell_type": "code",
   "execution_count": 28,
   "id": "dd1e3398-30cd-4845-8593-9e8b2d1b996b",
   "metadata": {},
   "outputs": [],
   "source": [
    "# predict on new data\n",
    "\n",
    "a = [[200000, 12]]"
   ]
  },
  {
   "cell_type": "code",
   "execution_count": 30,
   "id": "0a127d0d-c7e8-4f9e-914f-5316a7daa239",
   "metadata": {},
   "outputs": [
    {
     "data": {
      "text/plain": [
       "array(['Critical Success'], dtype=object)"
      ]
     },
     "execution_count": 30,
     "metadata": {},
     "output_type": "execute_result"
    }
   ],
   "source": [
    "dt.predict(a)"
   ]
  },
  {
   "cell_type": "code",
   "execution_count": null,
   "id": "c80dc3f0-1aac-43a5-ace8-4045d22820ca",
   "metadata": {},
   "outputs": [],
   "source": []
  }
 ],
 "metadata": {
  "kernelspec": {
   "display_name": "Python 3 (ipykernel)",
   "language": "python",
   "name": "python3"
  },
  "language_info": {
   "codemirror_mode": {
    "name": "ipython",
    "version": 3
   },
   "file_extension": ".py",
   "mimetype": "text/x-python",
   "name": "python",
   "nbconvert_exporter": "python",
   "pygments_lexer": "ipython3",
   "version": "3.11.7"
  }
 },
 "nbformat": 4,
 "nbformat_minor": 5
}
