{
 "cells": [
  {
   "cell_type": "markdown",
   "id": "90af90c6-b792-4a74-aab7-58baa08a95ea",
   "metadata": {},
   "source": [
    "## ASSIGMENT"
   ]
  },
  {
   "cell_type": "code",
   "execution_count": null,
   "id": "68ea3d63-37d3-402c-9e2c-9d6078b4eb61",
   "metadata": {},
   "outputs": [],
   "source": [
    " #1.write a program to convert specified days into years,weeks and days. take user input . note:ignore leap year"
   ]
  },
  {
   "cell_type": "code",
   "execution_count": 29,
   "id": "d17c2b01-bef0-4fe1-93f6-a3111ffe3c3f",
   "metadata": {},
   "outputs": [
    {
     "name": "stdin",
     "output_type": "stream",
     "text": [
      "enter the number of days: 385\n"
     ]
    },
    {
     "name": "stdout",
     "output_type": "stream",
     "text": [
      "conversion is  1 : 2 : 6\n"
     ]
    }
   ],
   "source": [
    " # def convert_days(days):\n",
    "days=int(input('enter the number of days:'))\n",
    "years=days//365\n",
    "remaining_days=days%365\n",
    "week=remaining_days//7\n",
    "days_left=remaining_days%7\n",
    "print('conversion is ',years,':',week,':',days_left)\n"
   ]
  },
  {
   "cell_type": "code",
   "execution_count": null,
   "id": "e2b9420b-4290-4ce3-85c4-0a24cae329e9",
   "metadata": {},
   "outputs": [],
   "source": [
    "#2.# 2. Write a Python program to input basiPython salary of an employee and calculate its Gross salary according to following:"
   ]
  },
  {
   "cell_type": "code",
   "execution_count": null,
   "id": "08055d9c-d20c-4837-8f6e-a557af5f396c",
   "metadata": {},
   "outputs": [],
   "source": [
    "'''Basic Salary <= 10000 : HRA = 20%, DA = 80%\n",
    "Basic Salary <= 20000 : HRA = 30%, DA = 90%\n",
    "Basic Salary > 20000 : HRA = 35%, DA = 95'''"
   ]
  },
  {
   "cell_type": "code",
   "execution_count": 68,
   "id": "a3e54415-74be-46bc-89fd-2ae0f246b59e",
   "metadata": {},
   "outputs": [
    {
     "name": "stdin",
     "output_type": "stream",
     "text": [
      "Enter the basic salary of the employee:  50000\n"
     ]
    },
    {
     "name": "stdout",
     "output_type": "stream",
     "text": [
      "gross salary: 115000.0\n"
     ]
    }
   ],
   "source": [
    "basic_salary=float(input(\"Enter the basic salary of the employee: \"))\n",
    "if basic_salary<=10000:\n",
    "      hra=0.2*basic_salary \n",
    "      da=0.8*basic_salary\n",
    "elif basic_salary <= 20000:\n",
    "      hra =0.3*basic_salary \n",
    "      da=0.9*basic_salary \n",
    "else:\n",
    "     hra=0.35*basic_salary \n",
    "     da=0.95*basic_salary\n",
    "\n",
    "gross_salary = basic_salary + hra + da \n",
    "print('gross salary:',gross_salary)"
   ]
  },
  {
   "cell_type": "code",
   "execution_count": null,
   "id": "7c51314f-a43d-4153-b6bc-a7fcf6797de1",
   "metadata": {},
   "outputs": [],
   "source": [
    "'''3.Write a Python program to input electricity unit charges and calculate totalelectricity bill according to the given condition:\n",
    "For first 50 units Rs. 0.50/unit\n",
    "For next 100 units Rs. 0.75/unit\n",
    "For next 100 units Rs. 1.25/unit\n",
    "For unit above 250 Rs. 1.50/unit\n",
    "An additional surcharge of 17% is added to the bill'''"
   ]
  },
  {
   "cell_type": "code",
   "execution_count": 70,
   "id": "f5bdc6cf-b2aa-4c6e-bb8b-6ce689af0e2d",
   "metadata": {},
   "outputs": [
    {
     "name": "stdin",
     "output_type": "stream",
     "text": [
      "Enter the number of electricity units consumed:  4000\n"
     ]
    },
    {
     "name": "stdout",
     "output_type": "stream",
     "text": [
      "total electricity bill= 6844.5\n"
     ]
    }
   ],
   "source": [
    "units = float(input(\"Enter the number of electricity units consumed: \"))\n",
    "if units <= 50:\n",
    "    bill = units * 0.50 \n",
    "elif units <= 150:\n",
    "    bill = (50 * 0.50) + ((units - 50) * 0.75) \n",
    "elif units <= 250: \n",
    "    bill = (50 * 0.50) + (100 * 0.75) + ((units - 150) * 1.25) \n",
    "else:\n",
    "    bill = (50 * 0.50) + (100 * 0.75) + (100 * 1.25) + ((units - 250) * 1.50) \n",
    "\n",
    "#additional surcharge\n",
    "surcharge=bill*0.17\n",
    "total_bill=bill+ surcharge\n",
    "print('total electricity bill=',total_bill)"
   ]
  },
  {
   "cell_type": "code",
   "execution_count": 94,
   "id": "131bb7cc-5774-4f31-a172-ba03b04aba04",
   "metadata": {},
   "outputs": [
    {
     "data": {
      "text/plain": [
       "' 4. Write a Python program to print the given number patterns.\\n1\\n2 2\\n3 3 3\\n4 4 4 4\\n5 5 5 5 5'"
      ]
     },
     "execution_count": 94,
     "metadata": {},
     "output_type": "execute_result"
    }
   ],
   "source": [
    "''' 4. Write a Python program to print the given number patterns.\n",
    "1\n",
    "2 2\n",
    "3 3 3\n",
    "4 4 4 4\n",
    "5 5 5 5 5'''"
   ]
  },
  {
   "cell_type": "code",
   "execution_count": 93,
   "id": "cf688e11-5166-42a4-b3e7-941c5b0b1594",
   "metadata": {},
   "outputs": [
    {
     "name": "stdout",
     "output_type": "stream",
     "text": [
      "1 \n",
      "2 2 \n",
      "3 3 3 \n",
      "4 4 4 4 \n",
      "5 5 5 5 5 \n"
     ]
    }
   ],
   "source": [
    "row=5\n",
    "\n",
    "for i in range(1, row+ 1):\n",
    "    for j in range(i):\n",
    "       print(i,end=\" \")\n",
    "    print( )\n"
   ]
  },
  {
   "cell_type": "code",
   "execution_count": null,
   "id": "c19cb5a3-82ba-4e5a-95f4-86eed82b0b12",
   "metadata": {},
   "outputs": [],
   "source": [
    "# 5. Write a Python program to calculate product of digits of a number. Read value of n from user."
   ]
  },
  {
   "cell_type": "code",
   "execution_count": 131,
   "id": "f9d37baf-c4c9-4852-bc41-801a53f554b4",
   "metadata": {},
   "outputs": [
    {
     "name": "stdin",
     "output_type": "stream",
     "text": [
      "enter the number 100\n"
     ]
    },
    {
     "name": "stdout",
     "output_type": "stream",
     "text": [
      "product of number: 0\n"
     ]
    }
   ],
   "source": [
    "num=int(input('enter the number'))\n",
    "product=1\n",
    "while num>0:\n",
    " num=num//10\n",
    "digit=num%10\n",
    "product*=num\n",
    "\n",
    "print('product of number:',product)"
   ]
  },
  {
   "cell_type": "code",
   "execution_count": null,
   "id": "3ac8d48f-3ccc-4cf0-af78-18c8132122db",
   "metadata": {},
   "outputs": [],
   "source": [
    "# 6. Create a list of elements like: x = [45, 67, 12, Hello, 23.45, World] and perform following operations"
   ]
  },
  {
   "cell_type": "code",
   "execution_count": 185,
   "id": "b47a3f9f-c163-4544-84cf-887db0830229",
   "metadata": {},
   "outputs": [],
   "source": [
    " x = [45, 67, 12, 'Hello', 23.45, 'World'] "
   ]
  },
  {
   "cell_type": "code",
   "execution_count": 136,
   "id": "5c2b5788-8433-411c-8d7c-034c94d341e1",
   "metadata": {},
   "outputs": [
    {
     "name": "stdout",
     "output_type": "stream",
     "text": [
      "String values: ['Hello', 'World']\n"
     ]
    }
   ],
   "source": [
    "# 1. Extract only string values from this list. \n",
    "string_values = [element for element in x if isinstance(element, str)]\n",
    "print(\"String values:\", string_values)"
   ]
  },
  {
   "cell_type": "code",
   "execution_count": 137,
   "id": "4810c4c4-9856-4d39-8e43-4208678aa989",
   "metadata": {},
   "outputs": [
    {
     "data": {
      "text/plain": [
       "['HELLO', 'WORLD']"
      ]
     },
     "execution_count": 137,
     "metadata": {},
     "output_type": "execute_result"
    }
   ],
   "source": [
    "# 2. Create a new list with strings in upper case.\n",
    "[element.upper() for element in string_values]"
   ]
  },
  {
   "cell_type": "code",
   "execution_count": 142,
   "id": "9b70516f-6f94-4345-9d0b-167b635b99d8",
   "metadata": {},
   "outputs": [
    {
     "name": "stdout",
     "output_type": "stream",
     "text": [
      "Sum of integer values: 124\n"
     ]
    }
   ],
   "source": [
    "# 3. Find the addition of integer values.\n",
    "integer=[element for element in x if isinstance(element, int)]\n",
    "sum= sum(integer)\n",
    "print(\"Sum of integer values:\", sum)"
   ]
  },
  {
   "cell_type": "code",
   "execution_count": 145,
   "id": "1f82c6f9-7b8b-4cbf-b224-08d9ee22f6aa",
   "metadata": {},
   "outputs": [
    {
     "data": {
      "text/plain": [
       "False"
      ]
     },
     "execution_count": 145,
     "metadata": {},
     "output_type": "execute_result"
    }
   ],
   "source": [
    "#4. Check that the value 56 is present in it or not.\n",
    "56 in x"
   ]
  },
  {
   "cell_type": "code",
   "execution_count": 146,
   "id": "5a486ba1-fcf2-451b-9945-23105bb68dcb",
   "metadata": {},
   "outputs": [
    {
     "data": {
      "text/plain": [
       "['World', 23.45, 'Hello', 12, 67, 45]"
      ]
     },
     "execution_count": 146,
     "metadata": {},
     "output_type": "execute_result"
    }
   ],
   "source": [
    "#5. Print the list in reverse order.\n",
    "x[::-1]"
   ]
  },
  {
   "cell_type": "code",
   "execution_count": 186,
   "id": "26325738-29a3-4271-be87-2a7eb1c2ef9a",
   "metadata": {},
   "outputs": [
    {
     "name": "stdout",
     "output_type": "stream",
     "text": [
      "[45, 67, 12, 23.45, 'World']\n"
     ]
    }
   ],
   "source": [
    "#6. Delete the string ‘Hello’ from it.\n",
    "if 'Hello' in x:\n",
    " x.remove('Hello')\n",
    "print(x)"
   ]
  },
  {
   "cell_type": "code",
   "execution_count": 187,
   "id": "e57cf4e8-5c46-4d5c-93fb-8592798e023e",
   "metadata": {},
   "outputs": [
    {
     "name": "stdout",
     "output_type": "stream",
     "text": [
      "[45, 67, 12, 23.45, 36, 'World']\n"
     ]
    }
   ],
   "source": [
    "#7. Insert a new value of 36 at 5th position in list.\n",
    "x.insert(4,36)\n",
    "print(x)"
   ]
  },
  {
   "cell_type": "code",
   "execution_count": 188,
   "id": "b79a3ae3-2674-43da-adec-2ee128d8316d",
   "metadata": {},
   "outputs": [
    {
     "data": {
      "text/plain": [
       "6"
      ]
     },
     "execution_count": 188,
     "metadata": {},
     "output_type": "execute_result"
    }
   ],
   "source": [
    "#8. Count total number of elements in list now.\n",
    "len(x)"
   ]
  },
  {
   "cell_type": "code",
   "execution_count": 189,
   "id": "9dc1bf7e-11ec-4b93-bebc-e5d360314ec3",
   "metadata": {},
   "outputs": [
    {
     "name": "stdout",
     "output_type": "stream",
     "text": [
      "[12, 23.45, 36, 'World']\n"
     ]
    }
   ],
   "source": [
    "#9. Extract the values from 2nd index to 5th index.\n",
    "n=x[2:6]\n",
    "print(n)"
   ]
  },
  {
   "cell_type": "code",
   "execution_count": 190,
   "id": "af9465e0-65e9-4090-bb16-4b38ddc3853e",
   "metadata": {},
   "outputs": [
    {
     "name": "stdout",
     "output_type": "stream",
     "text": [
      "[45, 67, 12, 23.45, 36, 'World', [34, 'pune']]\n"
     ]
    }
   ],
   "source": [
    "#append [34,pune] to this list\n",
    "x.append([34,'pune'])\n",
    "print(x)"
   ]
  },
  {
   "cell_type": "code",
   "execution_count": 183,
   "id": "65f50585-630b-4d01-8439-9b7f773e0779",
   "metadata": {},
   "outputs": [],
   "source": [
    "#11. Delete the last element from list."
   ]
  },
  {
   "cell_type": "code",
   "execution_count": 191,
   "id": "a0b8c82f-8362-4518-8d0c-fc0cd63574ec",
   "metadata": {},
   "outputs": [
    {
     "data": {
      "text/plain": [
       "[34, 'pune']"
      ]
     },
     "execution_count": 191,
     "metadata": {},
     "output_type": "execute_result"
    }
   ],
   "source": [
    "x.pop()"
   ]
  },
  {
   "cell_type": "code",
   "execution_count": 2,
   "id": "316f50cb-b4ab-4c03-8eca-20f6336abc14",
   "metadata": {},
   "outputs": [],
   "source": [
    "#7. Create a tuple of elements with 5 float values in it and perform following operations."
   ]
  },
  {
   "cell_type": "code",
   "execution_count": 7,
   "id": "20eda446-e151-4aa7-a627-e52f9739e34f",
   "metadata": {},
   "outputs": [],
   "source": [
    "t=(1.1,2.2,5.5,4.4,3.3)"
   ]
  },
  {
   "cell_type": "code",
   "execution_count": 8,
   "id": "90d41a5f-9d49-4993-b334-e4e733315cf9",
   "metadata": {},
   "outputs": [
    {
     "data": {
      "text/plain": [
       "[1.1, 2.2, 3.3, 4.4, 5.5]"
      ]
     },
     "execution_count": 8,
     "metadata": {},
     "output_type": "execute_result"
    }
   ],
   "source": [
    "#1. Print the data in sorted manner.\n",
    "sorted(t)"
   ]
  },
  {
   "cell_type": "code",
   "execution_count": 9,
   "id": "1ce7b8b1-59ba-40e1-ba99-b287cbaee8af",
   "metadata": {},
   "outputs": [
    {
     "data": {
      "text/plain": [
       "False"
      ]
     },
     "execution_count": 9,
     "metadata": {},
     "output_type": "execute_result"
    }
   ],
   "source": [
    "#2. Check to see that the element 50 is present in it.\n",
    "50 in t"
   ]
  },
  {
   "cell_type": "code",
   "execution_count": 11,
   "id": "af1feab9-b70b-47da-b94d-11fbb660210e",
   "metadata": {},
   "outputs": [
    {
     "name": "stdout",
     "output_type": "stream",
     "text": [
      "{1.1, 2.2, 3.3, 4.4, 5.5}\n"
     ]
    }
   ],
   "source": [
    "#3. Convert this tuple in set.\n",
    "float_set=set(t)\n",
    "print(float_set)"
   ]
  },
  {
   "cell_type": "code",
   "execution_count": 12,
   "id": "c015d8fd-5075-4981-95f7-1317ab2ba1e5",
   "metadata": {},
   "outputs": [
    {
     "data": {
      "text/plain": [
       "'8. Create a dictionary of elements: {‘a’: ‘apple’, ‘b’: ‘ball’, ‘c’: ‘cat’, ‘d’: ‘doll’, ‘k’:\\n‘king’} and\\nperform following operations.\\n1. Access the data at key ‘k’.\\n2. Add a new values ‘z’: ‘zebra’\\n3. Replace the contents of ‘d’ as ‘dog’\\n4. Print all the values from this dictionary.\\n5. Find the length of this dictionary.'"
      ]
     },
     "execution_count": 12,
     "metadata": {},
     "output_type": "execute_result"
    }
   ],
   "source": [
    "'''8. Create a dictionary of elements: {‘a’: ‘apple’, ‘b’: ‘ball’, ‘c’: ‘cat’, ‘d’: ‘doll’, ‘k’:\n",
    "‘king’} and\n",
    "perform following operations.\n",
    "1. Access the data at key ‘k’.\n",
    "2. Add a new values ‘z’: ‘zebra’\n",
    "3. Replace the contents of ‘d’ as ‘dog’\n",
    "4. Print all the values from this dictionary.\n",
    "5. Find the length of this dictionary.'''"
   ]
  },
  {
   "cell_type": "code",
   "execution_count": 14,
   "id": "c3f5b273-28d8-4773-bc47-c486d3231a88",
   "metadata": {},
   "outputs": [],
   "source": [
    "d={'a': 'apple', 'b': 'ball', 'c': 'cat', 'd': 'doll', 'k':'king'}"
   ]
  },
  {
   "cell_type": "code",
   "execution_count": 19,
   "id": "9dabfced-fb46-4d2c-bfa9-547243c59c54",
   "metadata": {},
   "outputs": [
    {
     "name": "stdout",
     "output_type": "stream",
     "text": [
      "king\n"
     ]
    }
   ],
   "source": [
    "k=d['k']\n",
    "print(k)"
   ]
  },
  {
   "cell_type": "code",
   "execution_count": 21,
   "id": "a6f1419c-8ec7-4cb9-9e95-5f1039c931f4",
   "metadata": {},
   "outputs": [
    {
     "name": "stdout",
     "output_type": "stream",
     "text": [
      "{'a': 'apple', 'b': 'ball', 'c': 'cat', 'd': 'doll', 'k': 'king', 'z': 'zebra'}\n"
     ]
    }
   ],
   "source": [
    "d['z']='zebra'\n",
    "print(d)"
   ]
  },
  {
   "cell_type": "code",
   "execution_count": 23,
   "id": "c029f266-871d-4ee8-9864-4334bd4c32ef",
   "metadata": {},
   "outputs": [
    {
     "name": "stdout",
     "output_type": "stream",
     "text": [
      "{'a': 'apple', 'b': 'ball', 'c': 'cat', 'd': 'dog', 'k': 'king', 'z': 'zebra'}\n"
     ]
    }
   ],
   "source": [
    "d['d']='dog'\n",
    "print(d)"
   ]
  },
  {
   "cell_type": "code",
   "execution_count": 26,
   "id": "839ecc43-3873-473b-a38d-14c37ae4c650",
   "metadata": {},
   "outputs": [
    {
     "data": {
      "text/plain": [
       "dict_values(['apple', 'ball', 'cat', 'dog', 'king', 'zebra'])"
      ]
     },
     "execution_count": 26,
     "metadata": {},
     "output_type": "execute_result"
    }
   ],
   "source": [
    "d.values()"
   ]
  },
  {
   "cell_type": "code",
   "execution_count": 27,
   "id": "e58f9a8d-8648-46fe-8e56-c8cef9c50109",
   "metadata": {},
   "outputs": [
    {
     "data": {
      "text/plain": [
       "6"
      ]
     },
     "execution_count": 27,
     "metadata": {},
     "output_type": "execute_result"
    }
   ],
   "source": [
    "len(d)"
   ]
  },
  {
   "cell_type": "code",
   "execution_count": 29,
   "id": "da6f0d83-e076-48d8-bd34-06b25e875e18",
   "metadata": {},
   "outputs": [],
   "source": [
    "#9. Write a program to find the second largest element in a list."
   ]
  },
  {
   "cell_type": "code",
   "execution_count": 30,
   "id": "3c117b75-1349-4ea9-be37-dbc61b1f37b8",
   "metadata": {},
   "outputs": [],
   "source": [
    "list=[56,67,98,34]"
   ]
  },
  {
   "cell_type": "code",
   "execution_count": 42,
   "id": "17fda70b-0511-46ad-972e-98755314afa7",
   "metadata": {},
   "outputs": [
    {
     "name": "stdout",
     "output_type": "stream",
     "text": [
      "67\n"
     ]
    }
   ],
   "source": [
    "sorted(list)\n",
    "print(list[-2])"
   ]
  },
  {
   "cell_type": "code",
   "execution_count": null,
   "id": "3d586309-eb97-4bed-87e1-75c932d43c58",
   "metadata": {},
   "outputs": [],
   "source": [
    "'''10. This is a list of some metallic elements.\n",
    "metals = [ 'silver','gold', ... ]\n",
    "Make a new list that is almost identical to the metals list: the new\n",
    "contains the same items, in the same order, except that it does NOT\n",
    "contain the item 'copper'.'''"
   ]
  },
  {
   "cell_type": "code",
   "execution_count": 45,
   "id": "15b5abca-deb9-4a92-b967-fb0b29d8451c",
   "metadata": {},
   "outputs": [],
   "source": [
    "m=['gold','silver','copper','iron','silica','platinum','aluminum']"
   ]
  },
  {
   "cell_type": "code",
   "execution_count": 47,
   "id": "f0634d87-3c64-4a14-8b19-07897b8b262a",
   "metadata": {},
   "outputs": [
    {
     "name": "stdout",
     "output_type": "stream",
     "text": [
      "['gold', 'silver', 'iron', 'silica', 'platinum', 'aluminum']\n"
     ]
    }
   ],
   "source": [
    "n_metal=[m for m in m if m!='copper']\n",
    "print(n_metal)"
   ]
  },
  {
   "cell_type": "code",
   "execution_count": null,
   "id": "d8ee983e-1eef-4cf2-b13a-5ebdb722ed29",
   "metadata": {},
   "outputs": [],
   "source": []
  }
 ],
 "metadata": {
  "kernelspec": {
   "display_name": "Python 3 (ipykernel)",
   "language": "python",
   "name": "python3"
  },
  "language_info": {
   "codemirror_mode": {
    "name": "ipython",
    "version": 3
   },
   "file_extension": ".py",
   "mimetype": "text/x-python",
   "name": "python",
   "nbconvert_exporter": "python",
   "pygments_lexer": "ipython3",
   "version": "3.11.7"
  }
 },
 "nbformat": 4,
 "nbformat_minor": 5
}
