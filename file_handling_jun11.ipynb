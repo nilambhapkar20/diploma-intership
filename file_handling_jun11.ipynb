{
 "cells": [
  {
   "cell_type": "code",
   "execution_count": 5,
   "id": "e7ef540e-91e3-4492-a569-a8d432c1fbe9",
   "metadata": {},
   "outputs": [
    {
     "name": "stdout",
     "output_type": "stream",
     "text": [
      "maha.txt\n"
     ]
    }
   ],
   "source": [
    "f=open('maha.txt','r')\n",
    "print(f.name)"
   ]
  },
  {
   "cell_type": "code",
   "execution_count": 7,
   "id": "dfb118ea-cb54-4d61-b5bc-db98c583c94c",
   "metadata": {},
   "outputs": [
    {
     "name": "stdout",
     "output_type": "stream",
     "text": [
      "hello nilam is here\n"
     ]
    }
   ],
   "source": [
    "print(f.read())"
   ]
  },
  {
   "cell_type": "code",
   "execution_count": 10,
   "id": "8e61545c-368e-49c1-8323-278dea1d80d2",
   "metadata": {},
   "outputs": [
    {
     "name": "stdout",
     "output_type": "stream",
     "text": [
      "r\n"
     ]
    }
   ],
   "source": [
    "print(f.mode)"
   ]
  },
  {
   "cell_type": "code",
   "execution_count": 11,
   "id": "e8bd4cdd-51fd-41b0-8eaf-13cc6af01e49",
   "metadata": {},
   "outputs": [],
   "source": [
    "\n",
    "f.close()"
   ]
  },
  {
   "cell_type": "code",
   "execution_count": 12,
   "id": "2cfcc260-1e99-4b48-982e-b14a130d7ec2",
   "metadata": {},
   "outputs": [
    {
     "data": {
      "text/plain": [
       "True"
      ]
     },
     "execution_count": 12,
     "metadata": {},
     "output_type": "execute_result"
    }
   ],
   "source": [
    "f.closed"
   ]
  },
  {
   "cell_type": "code",
   "execution_count": 13,
   "id": "9ab05f7f-1d75-43ba-8ee4-768473bfdc88",
   "metadata": {},
   "outputs": [],
   "source": [
    "with open ('maha.txt','r')as f:\n",
    "    pass"
   ]
  },
  {
   "cell_type": "code",
   "execution_count": 14,
   "id": "3d212d78-5124-4054-bb5d-bc71a2d87961",
   "metadata": {},
   "outputs": [
    {
     "data": {
      "text/plain": [
       "True"
      ]
     },
     "execution_count": 14,
     "metadata": {},
     "output_type": "execute_result"
    }
   ],
   "source": [
    "f.closed"
   ]
  },
  {
   "cell_type": "code",
   "execution_count": 15,
   "id": "f2238c05-c0ce-4c7b-b8f4-b0995ae6e1dc",
   "metadata": {},
   "outputs": [],
   "source": [
    "with open ('maha.txt','r')as f:\n",
    "    content=f.read()"
   ]
  },
  {
   "cell_type": "code",
   "execution_count": 16,
   "id": "fcd7f229-1842-4e7a-8d46-6cffe4f983ee",
   "metadata": {},
   "outputs": [
    {
     "name": "stdout",
     "output_type": "stream",
     "text": [
      "hello nilam is here\n"
     ]
    }
   ],
   "source": [
    "print(content)"
   ]
  },
  {
   "cell_type": "code",
   "execution_count": 26,
   "id": "dc6f6e70-0c02-484b-b0f3-914966beb004",
   "metadata": {},
   "outputs": [],
   "source": [
    "with open ('maha.txt','r')as f:\n",
    "    content=f.readlines()"
   ]
  },
  {
   "cell_type": "code",
   "execution_count": 27,
   "id": "8e352ce6-7c78-434e-b9e9-8a44e77c8761",
   "metadata": {},
   "outputs": [
    {
     "name": "stdout",
     "output_type": "stream",
     "text": [
      "['hello nilam is here']\n"
     ]
    }
   ],
   "source": [
    "print(content)"
   ]
  },
  {
   "cell_type": "code",
   "execution_count": 35,
   "id": "77e69e0e-233c-4290-b309-cdb7233fa3af",
   "metadata": {},
   "outputs": [
    {
     "name": "stdout",
     "output_type": "stream",
     "text": [
      "A mobile phone is a wireless handheld device\n",
      " that allows users to make and receive calls.\n",
      "\n"
     ]
    }
   ],
   "source": [
    "with open ('test1.txt','r')as f:\n",
    "    content=f.readline()\n",
    "    print(content,end=' ')\n",
    "\n",
    "    content=f.readline()\n",
    "    print(content)"
   ]
  },
  {
   "cell_type": "code",
   "execution_count": 37,
   "id": "3044dac0-2abc-4202-8be0-537f5195693c",
   "metadata": {},
   "outputs": [
    {
     "name": "stdout",
     "output_type": "stream",
     "text": [
      "A mobile phone is a wireless handheld device\n",
      "that allows users to make and receive calls.\n",
      "While the earliest generation of mobile phones could only make and receive calls,\n",
      "todayâ€™s mobile phones do a lot more, accommodating web browsers, games, cameras, video players and navigational systems.\n"
     ]
    }
   ],
   "source": [
    "with open ('test1.txt','r')as f:\n",
    "    for line in f:\n",
    "         print(line,end='')"
   ]
  },
  {
   "cell_type": "code",
   "execution_count": 33,
   "id": "b016c5af-07b5-49f1-94ba-7d56a2156dae",
   "metadata": {},
   "outputs": [
    {
     "name": "stdout",
     "output_type": "stream",
     "text": [
      "A m\n"
     ]
    }
   ],
   "source": [
    "with open('test1.txt','r')as f:\n",
    "    content=f.read(3)\n",
    "    print(content)"
   ]
  },
  {
   "cell_type": "code",
   "execution_count": 38,
   "id": "8895ebec-7e7d-4cad-9667-d8d81e93819a",
   "metadata": {},
   "outputs": [
    {
     "name": "stdout",
     "output_type": "stream",
     "text": [
      "A mob*ile p*hone *is a *wirel*ess h*andhe*ld de*vice\n",
      "*that *allow*s use*rs to* make* and *recei*ve ca*lls.\n",
      "*While* the *earli*est g*enera*tion *of mo*bile *phone*s cou*ld on*ly ma*ke an*d rec*eive *calls*,\n",
      "tod*ayâ€™*s mob*ile p*hones* do a* lot *more,* acco*mmoda*ting *web b*rowse*rs, g*ames,* came*ras, *video* play*ers a*nd na*vigat*ional* syst*ems.\n",
      "*"
     ]
    }
   ],
   "source": [
    "#use while loop to entire file ...5 characters at atime \n",
    "with open ('test1.txt','r')as f:\n",
    "    size=5\n",
    "    content=f.read(size)\n",
    "    while len(content)>0:\n",
    "        print(content,end='*')\n",
    "        content=f.read(size)\n",
    "        "
   ]
  },
  {
   "cell_type": "code",
   "execution_count": 22,
   "id": "e45b9eef-8587-4ee2-8122-52dcdca5bcf3",
   "metadata": {},
   "outputs": [
    {
     "name": "stdout",
     "output_type": "stream",
     "text": [
      "A mob\n",
      "A mob\n"
     ]
    }
   ],
   "source": [
    "with open ('test1.txt', 'r')as f:\n",
    "    size=5                                     \n",
    "    content=f.read(size)\n",
    "    print(content)                                    \n",
    "    f.seek(0)     #start from begining\n",
    "    content=f.read(size)\n",
    "    print(content)"
   ]
  },
  {
   "cell_type": "code",
   "execution_count": 10,
   "id": "9162ff1c-0571-4386-9b23-06151b183f86",
   "metadata": {},
   "outputs": [],
   "source": [
    "#write\n",
    "with open('write.txt','w')as w:\n",
    "    pass"
   ]
  },
  {
   "cell_type": "code",
   "execution_count": 11,
   "id": "72d75e52-96b0-49dc-9d97-8f4babfc3adb",
   "metadata": {},
   "outputs": [],
   "source": [
    "with open('write.txt','w')as w:\n",
    "    w.write('my name is nilam')"
   ]
  },
  {
   "cell_type": "code",
   "execution_count": 14,
   "id": "9b922353-fe40-4d99-8089-d7eb1e2089fc",
   "metadata": {},
   "outputs": [],
   "source": [
    "with open('write.txt','w')as w:\n",
    "    w.write('my name is nilam \\n')\n",
    "    w.write('my name is samiksha')"
   ]
  },
  {
   "cell_type": "code",
   "execution_count": 16,
   "id": "b2cf1499-fa13-43f6-b5dd-7810aac988f9",
   "metadata": {},
   "outputs": [],
   "source": [
    "with open('write.txt','w')as w:\n",
    "    w.write('my name is nilam')\n",
    "    w.seek(0)\n",
    "    w.write('my name is samiksha')"
   ]
  },
  {
   "cell_type": "code",
   "execution_count": 17,
   "id": "ebd36c51-6e78-4cd5-a85a-355120cf9fb1",
   "metadata": {},
   "outputs": [],
   "source": [
    "with open('write.txt','w')as w:\n",
    "    w.write('my name is nilam')\n",
    "    w.seek(0)\n",
    "    w.write('aaaa')"
   ]
  },
  {
   "cell_type": "code",
   "execution_count": 61,
   "id": "85e7faa6-7301-4481-8344-a322d41fab4f",
   "metadata": {},
   "outputs": [],
   "source": [
    "#creat a new file which will be the copy of maha .txt"
   ]
  },
  {
   "cell_type": "code",
   "execution_count": 65,
   "id": "57fc4cf8-c7c9-4321-b667-b70d6b426c52",
   "metadata": {},
   "outputs": [],
   "source": [
    "with open('maha.txt','r')as rf:\n",
    "    with open(\"maha_copy.txt\",'w')as  w:\n",
    "     for line in rf:\n",
    "         w.write(line)\n"
   ]
  },
  {
   "cell_type": "code",
   "execution_count": 12,
   "id": "e9a22d32-9499-4269-bdac-8bca4cc7ad98",
   "metadata": {},
   "outputs": [],
   "source": [
    "#image\n",
    "with open('1661513402861.jpg','rb')as  f:\n",
    "  with open ('wall_copy','wb') as w:\n",
    "    for line in f:\n",
    "        w.write(line)"
   ]
  },
  {
   "cell_type": "code",
   "execution_count": null,
   "id": "3b1feafd-848d-4823-99c6-17e60c9c647d",
   "metadata": {},
   "outputs": [],
   "source": []
  },
  {
   "cell_type": "code",
   "execution_count": null,
   "id": "af0528c8-8090-4a0c-9aca-f291eab17411",
   "metadata": {},
   "outputs": [],
   "source": []
  }
 ],
 "metadata": {
  "kernelspec": {
   "display_name": "Python 3 (ipykernel)",
   "language": "python",
   "name": "python3"
  },
  "language_info": {
   "codemirror_mode": {
    "name": "ipython",
    "version": 3
   },
   "file_extension": ".py",
   "mimetype": "text/x-python",
   "name": "python",
   "nbconvert_exporter": "python",
   "pygments_lexer": "ipython3",
   "version": "3.11.7"
  }
 },
 "nbformat": 4,
 "nbformat_minor": 5
}
